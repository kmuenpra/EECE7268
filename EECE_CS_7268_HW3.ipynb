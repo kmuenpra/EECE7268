{
  "nbformat": 4,
  "nbformat_minor": 0,
  "metadata": {
    "colab": {
      "provenance": [],
      "include_colab_link": true
    },
    "kernelspec": {
      "name": "python3",
      "display_name": "Python 3"
    },
    "language_info": {
      "name": "python"
    }
  },
  "cells": [
    {
      "cell_type": "markdown",
      "metadata": {
        "id": "view-in-github",
        "colab_type": "text"
      },
      "source": [
        "<a href=\"https://colab.research.google.com/github/kmuenpra/EECE7268/blob/main/EECE_CS_7268_HW3.ipynb\" target=\"_parent\"><img src=\"https://colab.research.google.com/assets/colab-badge.svg\" alt=\"Open In Colab\"/></a>"
      ]
    },
    {
      "cell_type": "markdown",
      "source": [
        "# EECE / CS 7268: Verifiable Machine Learning -- Fall 2025\n",
        "# HW#3: Reachability Analysis of Neural Feedback Loops\n",
        "\n",
        "**Submission Instructions:** Please upload a .ipynb file (including your code, plots, and written answers) to Gradescope. This file can be updated unlimited times until the submission deadline.\n",
        "\n",
        "The goal of this assignment is to give you hands-on experience with reachability analysis of neural feedback loops. You will code some forward and backward reachability algorithms, leveraging existing NN verification libraries. Depending on your interests, you are encouraged to try implementing some sort of extension for the extra credit problem.\n",
        "\n",
        "You're welcome to use Jax, PyTorch, TensorFlow, Keras, or other appropriate libraries to help make your life easier throughout the problems - we provide examples based on `jax_verify` but tried to make the function signatures somewhat framework-agnostic."
      ],
      "metadata": {
        "id": "d8n5f4t_BW7c"
      }
    },
    {
      "cell_type": "markdown",
      "source": [
        "Please enter your contributions here! Mention if you have collaborated with someone on this homework or if you have used any AI tools for help with this homework! If this is not filled out, the assignment will be given a zero."
      ],
      "metadata": {
        "id": "eiyzJtqvYMb0"
      }
    },
    {
      "cell_type": "markdown",
      "source": [
        "# Dependencies, Imports, & Useful Functions"
      ],
      "metadata": {
        "id": "tzsSyKKx8WGX"
      }
    },
    {
      "cell_type": "code",
      "source": [
        "!apt install libgmp-dev libcdd-dev\n",
        "!pip install torch \\\n",
        "  torchvision \\\n",
        "  packaging>=20.0 \\\n",
        "  pytest==8.1.1 \\\n",
        "  pylint>=2.15 \\\n",
        "  pytest-order>=1.0.0 \\\n",
        "  pytest-mock>=3.14 \\\n",
        "  appdirs>=1.4 \\\n",
        "  pyyaml>=5.0 \\\n",
        "  tqdm>=4.64 \\\n",
        "  graphviz>=0.20.3 \\\n",
        "  matplotlib \\\n",
        "  pandas \\\n",
        "  tabulate \\\n",
        "  colour \\\n",
        "  jax==0.5.3 \\\n",
        "  parameterized \\\n",
        "  pypoman \\\n",
        "  alphashape \\\n",
        "  scikit-learn \\\n",
        "  scipy \\\n",
        "  imageio \\\n",
        "  tqdm \\\n",
        "  pyclipper \\\n",
        "  pygifsicle \\\n",
        "  mypy \\\n",
        "  pylint\n",
        "!pip install --no-deps \"auto-lirpa @ git+https://gitlab.com/neu-autonomy/certifiable-learning/auto-lirpa@numpy2.0-update-hacks\"\n",
        "!pip install \\\n",
        "    \"jax_verify @ git+https://gitlab.com/neu-autonomy/certifiable-learning/jax_verify@mainline_repo\"\n",
        "!pip install --no-deps \"crown_ibp @ git+https://gitlab.com/neu-autonomy/certifiable-learning/crown_ibp.git\"\n",
        "!pip install --no-deps \"nfl_veripy @ git+https://github.com/neu-autonomy/nfl_veripy.git\""
      ],
      "metadata": {
        "id": "BNns_6W2aNSz",
        "colab": {
          "base_uri": "https://localhost:8080/"
        },
        "outputId": "4aba3aa5-807f-4a36-c76b-fd66f224231b"
      },
      "execution_count": 1,
      "outputs": [
        {
          "output_type": "stream",
          "name": "stdout",
          "text": [
            "Reading package lists... Done\n",
            "Building dependency tree... Done\n",
            "Reading state information... Done\n",
            "libgmp-dev is already the newest version (2:6.2.1+dfsg-3ubuntu1).\n",
            "libcdd-dev is already the newest version (094m-1).\n",
            "0 upgraded, 0 newly installed, 0 to remove and 41 not upgraded.\n",
            "Collecting auto-lirpa@ git+https://gitlab.com/neu-autonomy/certifiable-learning/auto-lirpa@numpy2.0-update-hacks\n",
            "  Cloning https://gitlab.com/neu-autonomy/certifiable-learning/auto-lirpa (to revision numpy2.0-update-hacks) to /tmp/pip-install-bbkp2xas/auto-lirpa_ee6a18c7b5024d0abdb07ee5c7bddaf8\n",
            "  Running command git clone --filter=blob:none --quiet https://gitlab.com/neu-autonomy/certifiable-learning/auto-lirpa /tmp/pip-install-bbkp2xas/auto-lirpa_ee6a18c7b5024d0abdb07ee5c7bddaf8\n",
            "  warning: redirecting to https://gitlab.com/neu-autonomy/certifiable-learning/auto-lirpa.git/\n",
            "  Running command git checkout -b numpy2.0-update-hacks --track origin/numpy2.0-update-hacks\n",
            "  warning: redirecting to https://gitlab.com/neu-autonomy/certifiable-learning/auto-lirpa.git/\n",
            "  Switched to a new branch 'numpy2.0-update-hacks'\n",
            "  Branch 'numpy2.0-update-hacks' set up to track remote branch 'numpy2.0-update-hacks' from 'origin'.\n",
            "  Resolved https://gitlab.com/neu-autonomy/certifiable-learning/auto-lirpa to commit 0edc3dd81fe3cd5eb45f6d337fe191a00d8b396e\n",
            "  Preparing metadata (setup.py) ... \u001b[?25l\u001b[?25hdone\n",
            "Collecting jax_verify@ git+https://gitlab.com/neu-autonomy/certifiable-learning/jax_verify@mainline_repo\n",
            "  Cloning https://gitlab.com/neu-autonomy/certifiable-learning/jax_verify (to revision mainline_repo) to /tmp/pip-install-k36rfhh6/jax-verify_8f45646efca44d968bf59b2a0f9d21cf\n",
            "  Running command git clone --filter=blob:none --quiet https://gitlab.com/neu-autonomy/certifiable-learning/jax_verify /tmp/pip-install-k36rfhh6/jax-verify_8f45646efca44d968bf59b2a0f9d21cf\n",
            "  warning: redirecting to https://gitlab.com/neu-autonomy/certifiable-learning/jax_verify.git/\n",
            "  Running command git checkout -b mainline_repo --track origin/mainline_repo\n",
            "  warning: redirecting to https://gitlab.com/neu-autonomy/certifiable-learning/jax_verify.git/\n",
            "  Switched to a new branch 'mainline_repo'\n",
            "  Branch 'mainline_repo' set up to track remote branch 'mainline_repo' from 'origin'.\n",
            "  Resolved https://gitlab.com/neu-autonomy/certifiable-learning/jax_verify to commit 7cc6699a735023a905e6557475bc24354d96f525\n",
            "  Preparing metadata (setup.py) ... \u001b[?25l\u001b[?25hdone\n",
            "Collecting einshape@ git+https://github.com/deepmind/einshape.git (from jax_verify@ git+https://gitlab.com/neu-autonomy/certifiable-learning/jax_verify@mainline_repo)\n",
            "  Cloning https://github.com/deepmind/einshape.git to /tmp/pip-install-k36rfhh6/einshape_102d6da19e1842278e3404777a54176b\n",
            "  Running command git clone --filter=blob:none --quiet https://github.com/deepmind/einshape.git /tmp/pip-install-k36rfhh6/einshape_102d6da19e1842278e3404777a54176b\n",
            "  Resolved https://github.com/deepmind/einshape.git to commit d91ab136da3d97f4ba2b4582531cdc2dfd9fab0a\n",
            "  Preparing metadata (setup.py) ... \u001b[?25l\u001b[?25hdone\n",
            "Requirement already satisfied: absl-py in /usr/local/lib/python3.12/dist-packages (from jax_verify@ git+https://gitlab.com/neu-autonomy/certifiable-learning/jax_verify@mainline_repo) (1.4.0)\n",
            "Requirement already satisfied: cvxpy in /usr/local/lib/python3.12/dist-packages (from jax_verify@ git+https://gitlab.com/neu-autonomy/certifiable-learning/jax_verify@mainline_repo) (1.6.7)\n",
            "Requirement already satisfied: dm-tree in /usr/local/lib/python3.12/dist-packages (from jax_verify@ git+https://gitlab.com/neu-autonomy/certifiable-learning/jax_verify@mainline_repo) (0.1.9)\n",
            "Requirement already satisfied: jax>=0.4.6 in /usr/local/lib/python3.12/dist-packages (from jax_verify@ git+https://gitlab.com/neu-autonomy/certifiable-learning/jax_verify@mainline_repo) (0.5.3)\n",
            "Requirement already satisfied: jaxlib>=0.4.6 in /usr/local/lib/python3.12/dist-packages (from jax_verify@ git+https://gitlab.com/neu-autonomy/certifiable-learning/jax_verify@mainline_repo) (0.5.3)\n",
            "Requirement already satisfied: numpy in /usr/local/lib/python3.12/dist-packages (from jax_verify@ git+https://gitlab.com/neu-autonomy/certifiable-learning/jax_verify@mainline_repo) (2.0.2)\n",
            "Requirement already satisfied: optax in /usr/local/lib/python3.12/dist-packages (from jax_verify@ git+https://gitlab.com/neu-autonomy/certifiable-learning/jax_verify@mainline_repo) (0.2.6)\n",
            "Requirement already satisfied: dm-haiku in /usr/local/lib/python3.12/dist-packages (from jax_verify@ git+https://gitlab.com/neu-autonomy/certifiable-learning/jax_verify@mainline_repo) (0.0.15)\n",
            "Requirement already satisfied: ml_collections in /usr/local/lib/python3.12/dist-packages (from jax_verify@ git+https://gitlab.com/neu-autonomy/certifiable-learning/jax_verify@mainline_repo) (1.1.0)\n",
            "Requirement already satisfied: ml_dtypes>=0.4.0 in /usr/local/lib/python3.12/dist-packages (from jax>=0.4.6->jax_verify@ git+https://gitlab.com/neu-autonomy/certifiable-learning/jax_verify@mainline_repo) (0.5.3)\n",
            "Requirement already satisfied: opt_einsum in /usr/local/lib/python3.12/dist-packages (from jax>=0.4.6->jax_verify@ git+https://gitlab.com/neu-autonomy/certifiable-learning/jax_verify@mainline_repo) (3.4.0)\n",
            "Requirement already satisfied: scipy>=1.11.1 in /usr/local/lib/python3.12/dist-packages (from jax>=0.4.6->jax_verify@ git+https://gitlab.com/neu-autonomy/certifiable-learning/jax_verify@mainline_repo) (1.16.3)\n",
            "Requirement already satisfied: osqp>=0.6.2 in /usr/local/lib/python3.12/dist-packages (from cvxpy->jax_verify@ git+https://gitlab.com/neu-autonomy/certifiable-learning/jax_verify@mainline_repo) (1.0.5)\n",
            "Requirement already satisfied: clarabel>=0.5.0 in /usr/local/lib/python3.12/dist-packages (from cvxpy->jax_verify@ git+https://gitlab.com/neu-autonomy/certifiable-learning/jax_verify@mainline_repo) (0.11.1)\n",
            "Requirement already satisfied: scs>=3.2.4.post1 in /usr/local/lib/python3.12/dist-packages (from cvxpy->jax_verify@ git+https://gitlab.com/neu-autonomy/certifiable-learning/jax_verify@mainline_repo) (3.2.9)\n",
            "Requirement already satisfied: jmp>=0.0.2 in /usr/local/lib/python3.12/dist-packages (from dm-haiku->jax_verify@ git+https://gitlab.com/neu-autonomy/certifiable-learning/jax_verify@mainline_repo) (0.0.4)\n",
            "Requirement already satisfied: tabulate>=0.8.9 in /usr/local/lib/python3.12/dist-packages (from dm-haiku->jax_verify@ git+https://gitlab.com/neu-autonomy/certifiable-learning/jax_verify@mainline_repo) (0.9.0)\n",
            "Requirement already satisfied: attrs>=18.2.0 in /usr/local/lib/python3.12/dist-packages (from dm-tree->jax_verify@ git+https://gitlab.com/neu-autonomy/certifiable-learning/jax_verify@mainline_repo) (25.4.0)\n",
            "Requirement already satisfied: wrapt>=1.11.2 in /usr/local/lib/python3.12/dist-packages (from dm-tree->jax_verify@ git+https://gitlab.com/neu-autonomy/certifiable-learning/jax_verify@mainline_repo) (2.0.0)\n",
            "Requirement already satisfied: PyYAML in /usr/local/lib/python3.12/dist-packages (from ml_collections->jax_verify@ git+https://gitlab.com/neu-autonomy/certifiable-learning/jax_verify@mainline_repo) (6.0.3)\n",
            "Requirement already satisfied: chex>=0.1.87 in /usr/local/lib/python3.12/dist-packages (from optax->jax_verify@ git+https://gitlab.com/neu-autonomy/certifiable-learning/jax_verify@mainline_repo) (0.1.90)\n",
            "Requirement already satisfied: typing_extensions>=4.2.0 in /usr/local/lib/python3.12/dist-packages (from chex>=0.1.87->optax->jax_verify@ git+https://gitlab.com/neu-autonomy/certifiable-learning/jax_verify@mainline_repo) (4.15.0)\n",
            "Requirement already satisfied: setuptools in /usr/local/lib/python3.12/dist-packages (from chex>=0.1.87->optax->jax_verify@ git+https://gitlab.com/neu-autonomy/certifiable-learning/jax_verify@mainline_repo) (75.2.0)\n",
            "Requirement already satisfied: toolz>=0.9.0 in /usr/local/lib/python3.12/dist-packages (from chex>=0.1.87->optax->jax_verify@ git+https://gitlab.com/neu-autonomy/certifiable-learning/jax_verify@mainline_repo) (0.12.1)\n",
            "Requirement already satisfied: cffi in /usr/local/lib/python3.12/dist-packages (from clarabel>=0.5.0->cvxpy->jax_verify@ git+https://gitlab.com/neu-autonomy/certifiable-learning/jax_verify@mainline_repo) (2.0.0)\n",
            "Requirement already satisfied: jinja2 in /usr/local/lib/python3.12/dist-packages (from osqp>=0.6.2->cvxpy->jax_verify@ git+https://gitlab.com/neu-autonomy/certifiable-learning/jax_verify@mainline_repo) (3.1.6)\n",
            "Requirement already satisfied: joblib in /usr/local/lib/python3.12/dist-packages (from osqp>=0.6.2->cvxpy->jax_verify@ git+https://gitlab.com/neu-autonomy/certifiable-learning/jax_verify@mainline_repo) (1.5.2)\n",
            "Requirement already satisfied: pycparser in /usr/local/lib/python3.12/dist-packages (from cffi->clarabel>=0.5.0->cvxpy->jax_verify@ git+https://gitlab.com/neu-autonomy/certifiable-learning/jax_verify@mainline_repo) (2.23)\n",
            "Requirement already satisfied: MarkupSafe>=2.0 in /usr/local/lib/python3.12/dist-packages (from jinja2->osqp>=0.6.2->cvxpy->jax_verify@ git+https://gitlab.com/neu-autonomy/certifiable-learning/jax_verify@mainline_repo) (3.0.3)\n",
            "Collecting crown_ibp@ git+https://gitlab.com/neu-autonomy/certifiable-learning/crown_ibp.git\n",
            "  Cloning https://gitlab.com/neu-autonomy/certifiable-learning/crown_ibp.git to /tmp/pip-install-kaewx3hz/crown-ibp_dcdb3e202ebf45fab581d51062e523c5\n",
            "  Running command git clone --filter=blob:none --quiet https://gitlab.com/neu-autonomy/certifiable-learning/crown_ibp.git /tmp/pip-install-kaewx3hz/crown-ibp_dcdb3e202ebf45fab581d51062e523c5\n",
            "  Resolved https://gitlab.com/neu-autonomy/certifiable-learning/crown_ibp.git to commit 96abca4086c66fc7869e92359f490c08940e0757\n",
            "  Preparing metadata (setup.py) ... \u001b[?25l\u001b[?25hdone\n",
            "Collecting nfl_veripy@ git+https://github.com/neu-autonomy/nfl_veripy.git\n",
            "  Cloning https://github.com/neu-autonomy/nfl_veripy.git to /tmp/pip-install-6iiaezg5/nfl-veripy_549aa7edc5a74511a65cef7aaa788b4e\n",
            "  Running command git clone --filter=blob:none --quiet https://github.com/neu-autonomy/nfl_veripy.git /tmp/pip-install-6iiaezg5/nfl-veripy_549aa7edc5a74511a65cef7aaa788b4e\n",
            "  Resolved https://github.com/neu-autonomy/nfl_veripy.git to commit 71a44be265c7a4e51da2ff1888a613f29bdffd6a\n",
            "  Running command git submodule update --init --recursive -q\n",
            "  Installing build dependencies ... \u001b[?25l\u001b[?25hdone\n",
            "  Getting requirements to build wheel ... \u001b[?25l\u001b[?25hdone\n",
            "  Preparing metadata (pyproject.toml) ... \u001b[?25l\u001b[?25hdone\n"
          ]
        }
      ]
    },
    {
      "cell_type": "code",
      "source": [
        "import argparse  # noqa: E402\n",
        "import ast  # noqa: E402\n",
        "import logging  # noqa: E402\n",
        "import os  # noqa: E402\n",
        "import time  # noqa: E402\n",
        "from typing import Dict, Tuple  # noqa: E402\n",
        "\n",
        "import numpy as np  # noqa: E402\n",
        "import yaml  # noqa: E402\n",
        "\n",
        "import nfl_veripy.analyzers as analyzers  # noqa: E402\n",
        "import nfl_veripy.constraints as constraints  # noqa: E402\n",
        "import nfl_veripy.dynamics as dynamics  # noqa: E402\n",
        "from nfl_veripy.utils.nn import load_controller  # noqa: E402\n",
        "from nfl_veripy.utils.utils import get_plot_filename  # noqa: E402\n",
        "\n",
        "import torch\n",
        "import numpy as np\n",
        "import cvxpy as cp\n",
        "from enum import Enum\n",
        "import matplotlib.pyplot as plt\n",
        "import jax_verify\n",
        "import functools\n",
        "import jax.numpy as jnp\n",
        "from typing import Callable, Optional\n",
        "from matplotlib.patches import Rectangle\n",
        "from itertools import product"
      ],
      "metadata": {
        "id": "aoMwfdOPXyeL",
        "colab": {
          "base_uri": "https://localhost:8080/"
        },
        "outputId": "fdf0b710-da6b-46b9-d606-69a91fe07b72"
      },
      "execution_count": 2,
      "outputs": [
        {
          "output_type": "stream",
          "name": "stderr",
          "text": [
            "/usr/local/lib/python3.12/dist-packages/jaxlib/plugin_support.py:71: RuntimeWarning: JAX plugin jax_cuda12_plugin version 0.7.2 is installed, but it is not compatible with the installed jaxlib version 0.5.3, so it will not be used.\n",
            "  warnings.warn(\n",
            "W1031 19:48:07.868000 19856 torch/utils/cpp_extension.py:118] No CUDA runtime is found, using CUDA_HOME='/usr/local/cuda'\n",
            "/usr/local/lib/python3.12/dist-packages/jupyter_client/session.py:203: DeprecationWarning: datetime.datetime.utcnow() is deprecated and scheduled for removal in a future version. Use timezone-aware objects to represent datetimes in UTC: datetime.datetime.now(datetime.UTC).\n",
            "  return datetime.utcnow().replace(tzinfo=utc)\n",
            "/usr/local/lib/python3.12/dist-packages/jupyter_client/session.py:203: DeprecationWarning: datetime.datetime.utcnow() is deprecated and scheduled for removal in a future version. Use timezone-aware objects to represent datetimes in UTC: datetime.datetime.now(datetime.UTC).\n",
            "  return datetime.utcnow().replace(tzinfo=utc)\n"
          ]
        }
      ]
    },
    {
      "cell_type": "markdown",
      "source": [
        "Some possibly useful methods for defining a NN in jax, copied in from the last HW assignment:"
      ],
      "metadata": {
        "id": "ByIZqTmzQwW9"
      }
    },
    {
      "cell_type": "code",
      "source": [
        "def pytorch_model_to_jax(torch_model: torch.nn.Sequential):\n",
        "  params = []\n",
        "  act = None\n",
        "\n",
        "  # Extract params (weights, biases) from torch layers, to be used in\n",
        "  # jax.\n",
        "  # Note: This propagator assumes a feed-forward relu NN.\n",
        "  for m in torch_model.modules():\n",
        "    if isinstance(m, torch.nn.Sequential):\n",
        "      continue\n",
        "    elif isinstance(m, torch.nn.ReLU):\n",
        "      if act is None or act == \"relu\":\n",
        "        act = \"relu\"\n",
        "    elif isinstance(m, torch.nn.Linear):\n",
        "      w = m.weight.data.numpy().T\n",
        "      b = m.bias.data.numpy()\n",
        "      params.append((w, b))\n",
        "  return functools.partial(relu_nn, params)\n",
        "\n",
        "def relu_nn(params, inputs):\n",
        "  for W, b in params[:-1]:\n",
        "    outputs = jnp.dot(inputs, W) + b\n",
        "    inputs = jnp.maximum(outputs, 0)\n",
        "  W, b = params[-1]\n",
        "  return jnp.dot(inputs, W) + b\n",
        "\n",
        "def jax_interval_to_np_range(interval: jax_verify.IntervalBound) -> np.ndarray:\n",
        "  return np.vstack([interval.lower, interval.upper]).T\n",
        "\n",
        "def np_range_to_jax_interval(input_range: np.ndarray) -> jax_verify.IntervalBound:\n",
        "  return jax_verify.IntervalBound(input_range[:, 0], input_range[:, 1])"
      ],
      "metadata": {
        "id": "wnsICnW-26ps"
      },
      "execution_count": 3,
      "outputs": []
    },
    {
      "cell_type": "markdown",
      "source": [
        "Here are some methods as examples of working with the controller and dynamics:"
      ],
      "metadata": {
        "id": "qvyjcqx76Gw6"
      }
    },
    {
      "cell_type": "code",
      "source": [
        "# Load a dynamics model that implements x_{t+1} = Ax_{t} + Bu_{t} for a ground robot\n",
        "dyn = dynamics.get_dynamics_instance(\"GroundRobot\", \"FullState\")\n",
        "# Load a controller for the ground robot that is trained to avoid an obstacle near the origin\n",
        "controller = load_controller(\"GroundRobotSI\", model_name=\"complex_potential_field\")\n",
        "jax_controller = pytorch_model_to_jax(controller)"
      ],
      "metadata": {
        "id": "amY6kolhPjKk",
        "colab": {
          "base_uri": "https://localhost:8080/"
        },
        "outputId": "2c687118-3ac1-4dd4-c5bf-459b1386aa3f"
      },
      "execution_count": 4,
      "outputs": [
        {
          "output_type": "stream",
          "name": "stderr",
          "text": [
            "/usr/local/lib/python3.12/dist-packages/keras/src/layers/core/dense.py:93: UserWarning: Do not pass an `input_shape`/`input_dim` argument to a layer. When using Sequential models, prefer using an `Input(shape)` object as the first layer in the model instead.\n",
            "  super().__init__(activity_regularizer=activity_regularizer, **kwargs)\n"
          ]
        }
      ]
    },
    {
      "cell_type": "markdown",
      "source": [
        "# Problem 1: Forward Reachability Analysis"
      ],
      "metadata": {
        "id": "qqU4tJK68hyi"
      }
    },
    {
      "cell_type": "markdown",
      "source": [
        "Here is an example of how to implement the closed-loop dynamics for 1 step (`step_1`) and plot some randomly sampled ($x_t, x_{t+1})$ pairs (`plot_1step_samples_and_bounds`):"
      ],
      "metadata": {
        "id": "A_A3ehzz8sE9"
      }
    },
    {
      "cell_type": "code",
      "source": [
        "def step_1(xt):\n",
        "  ut = jax_controller(xt)\n",
        "  xt1 = dyn.dynamics_step_jnp(xt, ut)\n",
        "  return xt1\n",
        "\n",
        "def plot_1step_samples_and_bounds(initial_state_range: np.ndarray, step_fn: Callable, bounds: Optional[np.ndarray]) -> None:\n",
        "\n",
        "  xt = np.random.uniform(low=initial_state_range[:, 0], high=initial_state_range[:, 1], size=(1000,2))\n",
        "  xt1 = step_fn(xt)\n",
        "  plt.plot(xt[:, 0], xt[:, 1], 'o')\n",
        "  plt.plot(xt1[:, 0], xt1[:, 1], 'o')\n",
        "  dims = [0, 1]\n",
        "  if bounds is not None:\n",
        "    rect = Rectangle(\n",
        "        bounds[dims, 0],\n",
        "        bounds[dims[0], 1] - bounds[dims[0], 0],\n",
        "        bounds[dims[1], 1] - bounds[dims[1], 0],\n",
        "        fc=\"None\",\n",
        "        linewidth=2,\n",
        "        edgecolor=\"red\",\n",
        "    )\n",
        "    plt.gca().add_patch(rect)\n",
        "  plt.show()\n",
        "\n",
        "initial_state_range = np.array([[-5.5,-4.5],[.5,1.5]])\n",
        "plot_1step_samples_and_bounds(initial_state_range, step_1, bounds=None)"
      ],
      "metadata": {
        "id": "N7pHvJBC6GZK",
        "colab": {
          "base_uri": "https://localhost:8080/",
          "height": 441
        },
        "outputId": "46f4fe28-70ed-4329-b61c-1cff2cb275ce"
      },
      "execution_count": 5,
      "outputs": [
        {
          "output_type": "display_data",
          "data": {
            "text/plain": [
              "<Figure size 640x480 with 1 Axes>"
            ],
            "image/png": "[encoded data removed]"
          },
          "metadata": {}
        }
      ]
    },
    {
      "cell_type": "markdown",
      "source": [
        "## 1a) Calculate outer bounds on the 1-step reachable set"
      ],
      "metadata": {
        "id": "xFYqzY5A8Yck"
      }
    },
    {
      "cell_type": "markdown",
      "source": [
        "You'll start by implementing a function that calculates outer bounds on the 1-step reachable set. It's up to you how you do this, but as an example, you could do this in 3 lines using `jax_verify`.\n",
        "\n",
        "**Deliverables**:\n",
        "- Implement `compute_1step_reachable_set`\n",
        "- Plot your computed reachable set bounds over the Monte Carlo samples"
      ],
      "metadata": {
        "id": "35IA1uV16flP"
      }
    },
    {
      "cell_type": "code",
      "source": [
        "# import jax\n",
        "# import jax.numpy as jnp\n",
        "# from jax_verify.src import bound_propagation\n",
        "# from jax_verify.src import ibp\n",
        "# from jax_verify.src import crownibp\n",
        "\n",
        "def compute_1step_reachable_set(initial_state_range: np.ndarray, step_fn: Callable) -> np.ndarray:\n",
        "\n",
        "  # - initial_state_range: np.array of size (num_states, 2) containing min/max per state\n",
        "  # - step_fn: function that takes 1 argument, x_t, and outputs the subsequent state, x_{t+1}\n",
        "  #\n",
        "  # Returns:\n",
        "  # - next_state_range: np.array of same shape as initial_state_range, but corresponding to the next timestep\n",
        "\n",
        "  # TODO: implement this\n",
        "\n",
        "  # Build bound propagation graph\n",
        "  def bound_fn(x):\n",
        "      return step_fn(x)\n",
        "\n",
        "  # Propagate bounds\n",
        "  next_state_range = jax_verify.interval_bound_propagation(\n",
        "    bound_fn, initial_state_range)\n",
        "\n",
        "\n",
        "  return next_state_range\n",
        "\n",
        "output_range = compute_1step_reachable_set(initial_state_range, step_1)\n",
        "print(f\"1-step Reachable Set: {output_range}.\")\n",
        "\n",
        "# You can pass the computed output_range to the function we defined before\n",
        "# and it will draw your bound as a rectangle over the sampled points:\n",
        "plot_1step_samples_and_bounds(initial_state_range, step_1, bounds=output_range)"
      ],
      "metadata": {
        "id": "rBpKO5Ek6fIS",
        "colab": {
          "base_uri": "https://localhost:8080/",
          "height": 518
        },
        "outputId": "bacb378e-c6e1-445e-9da3-9c8f6aa33f09"
      },
      "execution_count": 18,
      "outputs": [
        {
          "output_type": "stream",
          "name": "stdout",
          "text": [
            "[[-4.7796226 -4.9961376]\n",
            " [ 1.4671683  2.411033 ]]\n",
            "1-step Reachable Set: [[-4.7796226 -4.9961376]\n",
            " [ 1.4671683  2.411033 ]].\n"
          ]
        },
        {
          "output_type": "display_data",
          "data": {
            "text/plain": [
              "<Figure size 640x480 with 1 Axes>"
            ],
            "image/png": "[encoded data removed]"
          },
          "metadata": {}
        }
      ]
    },
    {
      "cell_type": "code",
      "source": [
        "output_range"
      ],
      "metadata": {
        "id": "fEcO0X3q0Jgr",
        "outputId": "1a4e3c8a-7824-4ed5-eb77-4fdb00fd8d39",
        "colab": {
          "base_uri": "https://localhost:8080/",
          "height": 141
        }
      },
      "execution_count": 7,
      "outputs": [
        {
          "output_type": "error",
          "ename": "NameError",
          "evalue": "name 'output_range' is not defined",
          "traceback": [
            "\u001b[0;31m---------------------------------------------------------------------------\u001b[0m",
            "\u001b[0;31mNameError\u001b[0m                                 Traceback (most recent call last)",
            "\u001b[0;32m/tmp/ipython-input-2938855835.py\u001b[0m in \u001b[0;36m<cell line: 0>\u001b[0;34m()\u001b[0m\n\u001b[0;32m----> 1\u001b[0;31m \u001b[0moutput_range\u001b[0m\u001b[0;34m\u001b[0m\u001b[0;34m\u001b[0m\u001b[0m\n\u001b[0m",
            "\u001b[0;31mNameError\u001b[0m: name 'output_range' is not defined"
          ]
        }
      ]
    },
    {
      "cell_type": "markdown",
      "source": [
        "## 1b) Calculate outer bounds on the reachable sets for T steps into the future: Iterative Version\n",
        "\n",
        "Now that you have a 1-step reachable set algorithm, you will extend this to compute reachable sets T steps into the future.\n",
        "\n",
        "**Deliverables**:\n",
        "- Implement `compute_Tstep_reachable_set_iterative`, an iterative algorithm to get reachable set outer bounds for timesteps $(1, 2, ..., T)$.\n",
        "\n"
      ],
      "metadata": {
        "id": "VOcwkfIh8W7F"
      }
    },
    {
      "cell_type": "markdown",
      "source": [
        "To help out, we provide you with a function to plot those samples (and bounds, for later parts of the problem), so you can see what the forward reachable sets should roughly look like:"
      ],
      "metadata": {
        "id": "llnZ0e2QOY3L"
      }
    },
    {
      "cell_type": "code",
      "source": [
        "def plot_Tstep_samples_and_bounds(initial_state_range: np.ndarray, step_1: Callable, num_steps: int, bounds: Optional[np.ndarray]) -> None:\n",
        "\n",
        "  # Sample a bunch of points in the initial state set, then run those forward T steps and plot\n",
        "  xt = np.random.uniform(low=initial_state_range[:, 0], high=initial_state_range[:, 1], size=(1000,2))\n",
        "  plt.plot(xt[:, 0], xt[:, 1], '.')\n",
        "  for _ in range(num_steps):\n",
        "    xt = step_1(xt)\n",
        "    plt.plot(xt[:, 0], xt[:, 1], '.')\n",
        "\n",
        "  # If passed in, draw the bounds as a rectangle at each timestep\n",
        "  if bounds is not None:\n",
        "    for bound in bounds:\n",
        "      dims = [0, 1]\n",
        "      rect = Rectangle(\n",
        "          bound[dims, 0],\n",
        "          bound[dims[0], 1] - bound[dims[0], 0],\n",
        "          bound[dims[1], 1] - bound[dims[1], 0],\n",
        "          fc=\"None\",\n",
        "          linewidth=2,\n",
        "          edgecolor=\"red\",\n",
        "      )\n",
        "      plt.gca().add_patch(rect)\n",
        "  plt.show()\n",
        "\n",
        "initial_state_range = np.array([[-5.5,-4.5],[.5,1.5]])\n",
        "num_steps = 10\n",
        "plot_Tstep_samples_and_bounds(initial_state_range, step_1, num_steps, bounds=None)"
      ],
      "metadata": {
        "id": "6SOJsB9KOWUg"
      },
      "execution_count": null,
      "outputs": []
    },
    {
      "cell_type": "markdown",
      "source": [
        "Now that you have visualized what the reachable sets should roughly look like, you will implement an algorithm to compute outer bounds on those reachable sets.\n",
        "\n",
        "Your first implementation will compute reachable sets iteratively, as in:\n",
        "\n",
        "- $\\bar{R}_1(X_t) = \\texttt{compute_1step_reachable_set}(X_t)$\n",
        "- $\\bar{R}_2(X_t) = \\texttt{compute_1step_reachable_set}(\\bar{R}_1(X_t))$\n",
        "- $\\ldots$"
      ],
      "metadata": {
        "id": "5L_wZ30-838C"
      }
    },
    {
      "cell_type": "code",
      "source": [
        "def compute_Tstep_reachable_set_iterative(initial_state_range: np.ndarray, step_fn: Callable, num_steps: int) -> np.ndarray:\n",
        "  #\n",
        "  # initial_state_range: (num_states, 2) array containing min/max per state\n",
        "  # step_fn: function that accepts array of state samples at initial timestep and returns list of state samples at times [t+1, ..., t+num_steps]\n",
        "  # num_steps: non-negative integer\n",
        "  #\n",
        "  # Return:\n",
        "  # - list of state_ranges at times [t+1, t+2, ..., t+num_steps]\n",
        "  #  i.e., [(num_states, 2)_t=t+1, ..., (num_states, 2)_t=t+T]\n",
        "\n",
        "  # TODO: implement this using\n",
        "\n",
        "  return output_range\n",
        "\n",
        "initial_state_range = np.array([[-5.5,-4.5],[.5,1.5]])\n",
        "output_ranges = compute_Tstep_reachable_set_iterative(initial_state_range, step_1, num_steps)\n",
        "plot_Tstep_samples_and_bounds(initial_state_range, step_1, num_steps, bounds=output_ranges)\n",
        "\n",
        "print('output ranges:')\n",
        "for output_range in output_ranges:\n",
        "  print(output_range)"
      ],
      "metadata": {
        "id": "RBx6tJ7F-WBN"
      },
      "execution_count": null,
      "outputs": []
    },
    {
      "cell_type": "markdown",
      "source": [
        "## 1c) Calculate outer bounds on the reachable sets for T steps into the future: One-Shot Version"
      ],
      "metadata": {
        "id": "mxRLz3uiAe-c"
      }
    },
    {
      "cell_type": "markdown",
      "source": [
        "Iterative reachability analysis can provide excessively conservative bounds, for several reasons. To address this, you will implement one way to get tighter bounds, by instead computing the bounds for all timesteps in one-shot, i.e.,\n",
        "\n",
        "- $\\bar{R}_T(X_t), \\ldots, \\bar{R}_2(X_t), \\bar{R}_1(X_t) = \\texttt{compute_Tstep_reachable_set}(X_t, T)$\n",
        "\n",
        "Remember, if the function you ask `jax_verify` to compute bounds on returns a list of outputs, you will get a list of bounds that corresponds to each output in the list. We've helped you out by implementing `step_T`, which outputs a list of future states for a given initial state. Since `jax_verify` expects the function to verify just has 1 argument (e.g., the initial state), it's helpful to use `functools.partial` to set any other arguments to a particular value (e.g., `num_steps`).\n",
        "\n",
        "**Deliverables**:\n",
        "- Implement `compute_Tstep_reachable_set_one_shot`\n",
        "- Briefly comment on the difference between the two algorithms' bounds and runtimes"
      ],
      "metadata": {
        "id": "JTkiCOeZ-BBw"
      }
    },
    {
      "cell_type": "code",
      "source": [
        "def step_T(num_steps: int, xt: np.ndarray) -> list[np.ndarray]:\n",
        "  #\n",
        "  # num_steps: non-negative integer\n",
        "  # xt: (num_samples, num_states) np array of state samples at time t\n",
        "  #\n",
        "  # Return:\n",
        "  # - list of state samples at times [t+1, t+2, ..., t+num_steps]\n",
        "  #  i.e., [(num_samples, num_states)_t=t+1, ..., (num_samples, num_states)_t=t+num_steps]\n",
        "  #\n",
        "  # jax_verify will by default compute bounds on any \"outputs\" of the function\n",
        "  # to verify, so if you return a list of states at each timestep, you'll\n",
        "  # get bounds on all reachable sets in one call.\n",
        "\n",
        "  xts = [xt]\n",
        "  for _ in range(num_steps):\n",
        "    ut = jax_controller(xts[-1])\n",
        "    xts.append(dyn.dynamics_step_jnp(xts[-1], ut))\n",
        "  return xts[1:]\n",
        "\n",
        "num_steps = 10\n",
        "step_fn = functools.partial(step_T, num_steps)\n",
        "\n",
        "step_fn(np.array([[-5., 0.]]))"
      ],
      "metadata": {
        "id": "uxSTu9ireuLK"
      },
      "execution_count": null,
      "outputs": []
    },
    {
      "cell_type": "code",
      "source": [
        "def compute_Tstep_reachable_set_one_shot(initial_state_range: np.ndarray, step_fn: Callable, num_steps: int) -> np.ndarray:\n",
        "  #\n",
        "  # initial_state_range: (num_states, 2) array containing min/max per state\n",
        "  # step_fn: function that accepts array of state samples at initial timestep and returns list of state samples at times [t+1, ..., t+num_steps]\n",
        "  # num_steps: non-negative integer\n",
        "  #\n",
        "  # Return:\n",
        "  # - list of state_ranges at times [t+1, t+2, ..., t+num_steps]\n",
        "  #  i.e., [(num_states, 2)_t=t+1, ..., (num_states, 2)_t=t+T]\n",
        "\n",
        "  # TODO: implement this using\n",
        "\n",
        "  return output_range\n",
        "\n",
        "output_ranges = compute_Tstep_reachable_set_one_shot(initial_state_range, step_fn, num_steps)\n",
        "plot_Tstep_samples_and_bounds(initial_state_range, step_1, num_steps, bounds=output_ranges)\n",
        "\n",
        "print('output ranges:')\n",
        "for output_range in output_ranges:\n",
        "  print(output_range)"
      ],
      "metadata": {
        "id": "obYfAdZJ3Eii"
      },
      "execution_count": null,
      "outputs": []
    },
    {
      "cell_type": "markdown",
      "source": [
        "How do your iterative and one-shot reachable sets compare? The one-shot sets should be tighter, which may become more noticeable after a few timesteps. How did the computation time compare?"
      ],
      "metadata": {
        "id": "ZHhFogMY-mgz"
      }
    },
    {
      "cell_type": "markdown",
      "source": [
        "## 1d) Try your one-shot forward reachability algorithm on bifurcating dynamics"
      ],
      "metadata": {
        "id": "1bvlheckR_M_"
      }
    },
    {
      "cell_type": "markdown",
      "source": [
        "So far, we considered an initial state set that had positive y component, so the robot went \"up\" around the obstacle, regardless of where it started within that set. Now, let's see how things look if we move the `initial_state_set` to span y=0.\n",
        "\n",
        "**Deliverables**:\n",
        "- Plot of the samples over 10 timesteps (should just be able to run the 1st cell below)\n",
        "- Plot of the reachable set estimates over 2 timesteps (should just be able to run the 2nd cell below)\n"
      ],
      "metadata": {
        "id": "f_CLsagmSqSC"
      }
    },
    {
      "cell_type": "markdown",
      "source": [
        "Visualize 10 steps of the dynamics via sampling:"
      ],
      "metadata": {
        "id": "r8wbp_MW_qOZ"
      }
    },
    {
      "cell_type": "code",
      "source": [
        "initial_state_range = np.array([[-5.5,-4.5],[-.5,.5]])\n",
        "plot_Tstep_samples_and_bounds(initial_state_range, step_1, num_steps, bounds=None)"
      ],
      "metadata": {
        "id": "rO81I-vRShbO"
      },
      "execution_count": null,
      "outputs": []
    },
    {
      "cell_type": "markdown",
      "source": [
        "Next, run your one-shot forward reachability algorithm -- just for 1 or 2 timesteps -- to see how well it bounds the \"true\" reachable set (as estimated by the samples):"
      ],
      "metadata": {
        "id": "Vrdf0HFeTEI6"
      }
    },
    {
      "cell_type": "code",
      "source": [
        "num_steps = 2\n",
        "step_fn = functools.partial(step_T, num_steps)\n",
        "output_ranges = compute_Tstep_reachable_set_one_shot(initial_state_range, step_fn, num_steps)\n",
        "plot_Tstep_samples_and_bounds(initial_state_range, step_1, num_steps, bounds=output_ranges)"
      ],
      "metadata": {
        "id": "hrjjQ4HDAjvJ"
      },
      "execution_count": null,
      "outputs": []
    },
    {
      "cell_type": "markdown",
      "source": [
        "The bounds will probably be quite loose. We will use backward reachability in the next problem to try to get a more useful answer."
      ],
      "metadata": {
        "id": "AhKNRjSjhcRY"
      }
    },
    {
      "cell_type": "markdown",
      "source": [
        "# Problem 2: Backward Reachability Analysis"
      ],
      "metadata": {
        "id": "a45OkBRqBzDt"
      }
    },
    {
      "cell_type": "markdown",
      "source": [
        "Sometimes, the forward reachable set over-approximations are way too loose to be useful, so we need a new strategy. Or other times, it may not even be important to explicitly compute the forward reachable sets. For example, if we simply want to verify that the system will not enter some part of the state space (e.g., for obstacle avoidance), we could try to directly verify that property instead.\n",
        "\n",
        "In this problem, instead of computing forward reachable sets starting from the `initial_state_set`, we will solve the backward reachability problem. First, we will define a `target_state_set`, which describes the states we do not want our system to ever enter.\n",
        "\n",
        "Then, we will define the `backprojection_sets` as all the states that would lead to the `target_state_set`, when following the system's dynamics and trained control policy. Since it will be intractable to compute the `backprojection_sets` exactly, we will aim to compute outer bounds on these sets.\n",
        "\n",
        "How is this useful? Once we have these `backprojection_sets` computed, right before we let our robot start driving, we can check that it is not starting in one of the `backprojection_set` over-approximations, and if it isn't, we have a proof that the system will not enter the `target_state_set`. For an even stronger result, if you can prove that the first backprojection set is inside the target set, it follows that as long as the system starts outside of the target set, the system will never enter the target set."
      ],
      "metadata": {
        "id": "c8Vm31iCB2hg"
      }
    },
    {
      "cell_type": "markdown",
      "source": [
        "## 2a) Compute \"true\" backprojection sets by sampling"
      ],
      "metadata": {
        "id": "GKh9RtWfagHQ"
      }
    },
    {
      "cell_type": "markdown",
      "source": [
        "We are trying to compute the backprojection set but it's difficult to know what this \"should\" look like. To get an idea (and an under-approximation), sample a bunch of points from the state space and check if the subsequent state (i.e., after running that state through the closed-loop dynamics for 1) will be inside the target set. As a hint, all of these points should be inside the target set, since this is a well-trained collision avoidance policy.\n",
        "\n",
        "**Deliverables**:\n",
        "- Implement `estimate_true_backprojection_set`\n",
        "- Plot the \"true\" (sampling-based) backprojection set and the target set"
      ],
      "metadata": {
        "id": "5tt4ueHqanUW"
      }
    },
    {
      "cell_type": "code",
      "source": [
        "target_state_set = np.array([[-1.0, 1.0], [-1.0, 1.0]])*0.2\n",
        "\n",
        "def get_true_backprojection_set(target_state_set: np.ndarray, step_fn: Callable) -> np.ndarray:\n",
        "\n",
        "  # Return:\n",
        "  # - np.array of samples within $P_1(X_t)$ (e.g., if only 13 of your 10000 samples end up in the target set, you'd return an array of size (13,2))\n",
        "\n",
        "  # TODO: Implement this\n",
        "\n",
        "  return true_backprojection_set\n",
        "\n",
        "true_backprojection_set = get_true_backprojection_set(target_state_set, step_1)\n",
        "\n",
        "plt.plot(true_backprojection_set[:, 0], true_backprojection_set[:, 1], '.')\n",
        "rect = Rectangle(\n",
        "    target_state_set[[0, 1], 0],\n",
        "    target_state_set[0, 1] - target_state_set[0, 0],\n",
        "    target_state_set[1, 1] - target_state_set[1, 0],\n",
        "    fc=\"None\",\n",
        "    linewidth=2,\n",
        "    edgecolor=\"red\",\n",
        ")\n",
        "plt.gca().add_patch(rect)\n",
        "plt.show()"
      ],
      "metadata": {
        "id": "C7CWiliHbbRc"
      },
      "execution_count": null,
      "outputs": []
    },
    {
      "cell_type": "markdown",
      "source": [
        "## 2b) Compute backreachable set using LPs"
      ],
      "metadata": {
        "id": "IDJv3WbEpoqr"
      }
    },
    {
      "cell_type": "markdown",
      "source": [
        "Recall that for some target set, $X_t$, the backreachable set, $R_1(X_t)$, is the set of states for which *some* control within the control limits would lead the system into the target set:\n",
        "\n",
        "$R_1(X_t) = \\{ x_{t-1} | Ax_{t-1} + Bu_{t-1} \\in X_t, u_{t-1} \\in U \\}$\n",
        "\n",
        "Here, you'll compute rectangular outer bounds on $R_1(X_t)$ by setting up some LPs, and you'll then use these bounds in subsequent problems.\n",
        "\n",
        "**Deliverables**:\n",
        "- Implement `get_backreachable_set`\n",
        "- Plot the rectangular bounds on the backreachable set, along with the target set and the \"true\" backprojection set from before"
      ],
      "metadata": {
        "id": "UFF26bU7aNhc"
      }
    },
    {
      "cell_type": "code",
      "source": [
        "def get_backreachable_set(target_state_set: np.ndarray, dyn: dynamics.Dynamics) -> np.ndarray:\n",
        "\n",
        "  # Hint: you may want to use dyn.At, dyn.bt, dyn.u_limits, or dyn.dynamics_step\n",
        "  # Hint: you may want to use cvxpy for this\n",
        "\n",
        "  # TODO: Implement this\n",
        "\n",
        "  return backreachable_set\n",
        "\n",
        "backreachable_set = get_backreachable_set(target_state_set, dyn)\n",
        "\n",
        "plt.plot(true_backprojection_set[:, 0], true_backprojection_set[:, 1], '.')\n",
        "rect = Rectangle(\n",
        "    target_state_set[[0, 1], 0],\n",
        "    target_state_set[0, 1] - target_state_set[0, 0],\n",
        "    target_state_set[1, 1] - target_state_set[1, 0],\n",
        "    fc=\"None\",\n",
        "    linewidth=2,\n",
        "    edgecolor=\"red\",\n",
        ")\n",
        "plt.gca().add_patch(rect)\n",
        "rect = Rectangle(\n",
        "    backreachable_set[[0, 1], 0],\n",
        "    backreachable_set[0, 1] - backreachable_set[0, 0],\n",
        "    backreachable_set[1, 1] - backreachable_set[1, 0],\n",
        "    fc=\"None\",\n",
        "    linewidth=2,\n",
        "    edgecolor=\"black\",\n",
        ")\n",
        "plt.gca().add_patch(rect)\n",
        "plt.show()"
      ],
      "metadata": {
        "id": "SPck6x9XuKG0"
      },
      "execution_count": null,
      "outputs": []
    },
    {
      "cell_type": "markdown",
      "source": [
        "## 2c) Compute backprojection set using LPs"
      ],
      "metadata": {
        "id": "CpwP0fggpuBy"
      }
    },
    {
      "cell_type": "markdown",
      "source": [
        "In class we derived 2 ways to refine the `backreachable_set` using CROWN. You are welcome to implement either version.\n",
        "\n",
        "- Version 1: Relax `step_1` over $\\bar{R}_1(X_t)$ to get $M, n$ such that $Mx_{t-1}+n \\leq Cx_t$, to get the polytope description of $\\bar{P}_1(X_t)$ without solving an LP (for this HW, you probably should inflate this to a rectangle to make plotting & partitioning easier)\n",
        "- Version 2: Relax `jax_controller` over $\\bar{R}_1(X_t)$ to get to get $\\bar{M}, \\bar{n}, \\bar{M}', \\bar{n}'$ such that $\\bar{M}'x_{t-1}+\\bar{n}' \\leq \\pi(x_t) \\leq \\bar{M}x_{t-1}+\\bar{n}$, then add these inequalities as additional constraints to the LP you used to get $\\bar{R}_1(X_t)$.\n",
        "\n",
        "Hint: You may want to use `backward_crown_bound_propagation_linfun`, which is a small modification to `jax_verify` to output the slope/offset of the linear bounds rather than the min/max over the domain.\n",
        "\n",
        "**Deliverables**:\n",
        "- Implement `get_backprojection_set`\n",
        "- Plot the BP, BR, and \"true\" BP sets together"
      ],
      "metadata": {
        "id": "8zEOiuYGyuvz"
      }
    },
    {
      "cell_type": "code",
      "source": [
        "from nfl_veripy.utils.closed_loop_verification_jax import backward_crown_bound_propagation_linfun\n",
        "\n",
        "# Hint: to get the linear CROWN bounds from jax_verify:\n",
        "input_bounds = np_range_to_jax_interval(backreachable_set)\n",
        "obj = jnp.vstack((jnp.eye(dyn.num_inputs), -jnp.eye(dyn.num_inputs)))\n",
        "linfuns = backward_crown_bound_propagation_linfun(jax_controller, input_bounds, obj=obj)\n",
        "\n",
        "# Then linfuns[0].lin_coeffs and linfuns[0].offset will contain the slope/offset from state to control\n",
        "# Hint: You'll need to think about the signs of the entries in obj & linfuns to construct the inequalities properly"
      ],
      "metadata": {
        "id": "RFi_CqcauTV-"
      },
      "execution_count": null,
      "outputs": []
    },
    {
      "cell_type": "code",
      "source": [
        "def get_backprojection_set(target_state_set: np.ndarray, dyn: dynamics.Dynamics, backreachable_set: np.ndarray, controller: Callable) -> np.ndarray:\n",
        "\n",
        "  # Hint: you may want to use dyn.At, dyn.bt, dyn.u_limits, or dyn.dynamics_step\n",
        "  # Hint: you may want to use cvxpy for this\n",
        "\n",
        "  # TODO: Implement this\n",
        "\n",
        "  return backreachable_set\n",
        "\n",
        "backprojection_set = get_backprojection_set(target_state_set, dyn, backreachable_set, jax_controller)\n",
        "\n",
        "plt.plot(true_backprojection_set[:, 0], true_backprojection_set[:, 1], '.')\n",
        "rect = Rectangle(\n",
        "    target_state_set[[0, 1], 0],\n",
        "    target_state_set[0, 1] - target_state_set[0, 0],\n",
        "    target_state_set[1, 1] - target_state_set[1, 0],\n",
        "    fc=\"None\",\n",
        "    linewidth=2,\n",
        "    edgecolor=\"red\",\n",
        ")\n",
        "plt.gca().add_patch(rect)\n",
        "rect = Rectangle(\n",
        "    backreachable_set[[0, 1], 0],\n",
        "    backreachable_set[0, 1] - backreachable_set[0, 0],\n",
        "    backreachable_set[1, 1] - backreachable_set[1, 0],\n",
        "    fc=\"None\",\n",
        "    linewidth=2,\n",
        "    edgecolor=\"black\",\n",
        ")\n",
        "plt.gca().add_patch(rect)\n",
        "rect = Rectangle(\n",
        "    backprojection_set[[0, 1], 0],\n",
        "    backprojection_set[0, 1] - backprojection_set[0, 0],\n",
        "    backprojection_set[1, 1] - backprojection_set[1, 0],\n",
        "    fc=\"None\",\n",
        "    linewidth=2,\n",
        "    edgecolor=\"green\",\n",
        ")\n",
        "plt.gca().add_patch(rect)\n",
        "plt.show()"
      ],
      "metadata": {
        "id": "vwzSkWfctUv9"
      },
      "execution_count": null,
      "outputs": []
    },
    {
      "cell_type": "markdown",
      "source": [
        "It is expected that your `backprojection_set` is the same as your `backreachable_set` at this point. This happens when the constrains induced by the CROWN relaxation are looser than the bounds induced by the control limits. You'll address this in the next part."
      ],
      "metadata": {
        "id": "QrglCoZhx4Lu"
      }
    },
    {
      "cell_type": "markdown",
      "source": [
        "## 2d) Branch and Bound: Uniform Splitting"
      ],
      "metadata": {
        "id": "xJSPaH4Ap1KS"
      }
    },
    {
      "cell_type": "markdown",
      "source": [
        "One strategy to (hopefully) get a tighter CROWN relaxation is to individually consider subsets regions of the backreachable set, then put them back together.\n",
        "\n",
        "We provide a uniform partitioning strategy that splits the `backreachable_set` into subsets and runs your `get_backprojection_set` on each subset iteratively. The union of these BP sets should provide a much better outer bound on $P_1(X_t)$ than you had before!\n",
        "\n",
        "Note: it's ok if some of the BP subsets are empty!\n",
        "\n",
        "**Deliverables**:\n",
        "- Run the cell below to see if you get meaningful bounds on $P_1(X_t)$\n",
        "- Experiment with different numbers of partitions and show your results"
      ],
      "metadata": {
        "id": "FNmNHdCcyrXK"
      }
    },
    {
      "cell_type": "code",
      "source": [
        "num_partitions = [2, 2]\n",
        "\n",
        "slope = np.divide(\n",
        "    (backreachable_set[:, 1] - backreachable_set[:, 0]), num_partitions\n",
        ")\n",
        "for element in product(\n",
        "    *[range(num) for num in num_partitions]\n",
        "):\n",
        "    element_subset = np.array(element)\n",
        "    backreachable_set_subset = np.empty_like(backreachable_set)\n",
        "    backreachable_set_subset[..., 0] = backreachable_set[..., 0] + np.multiply(\n",
        "        element_subset, slope\n",
        "    )\n",
        "    backreachable_set_subset[..., 1] = backreachable_set[..., 0] + np.multiply(\n",
        "        element_subset + 1, slope\n",
        "    )\n",
        "    print(backreachable_set_subset)\n",
        "\n",
        "    backprojection_set_subset = get_backprojection_set(target_state_set, dyn, backreachable_set_subset, jax_controller)\n",
        "\n",
        "    rect = Rectangle(\n",
        "        backprojection_set_subset[[0, 1], 0],\n",
        "        backprojection_set_subset[0, 1] - backprojection_set_subset[0, 0],\n",
        "        backprojection_set_subset[1, 1] - backprojection_set_subset[1, 0],\n",
        "        fc=\"None\",\n",
        "        linewidth=2,\n",
        "        edgecolor=\"green\",\n",
        "    )\n",
        "    plt.gca().add_patch(rect)\n",
        "\n",
        "plt.plot(true_backprojection_set[:, 0], true_backprojection_set[:, 1], '.')\n",
        "rect = Rectangle(\n",
        "    target_state_set[[0, 1], 0],\n",
        "    target_state_set[0, 1] - target_state_set[0, 0],\n",
        "    target_state_set[1, 1] - target_state_set[1, 0],\n",
        "    fc=\"None\",\n",
        "    linewidth=2,\n",
        "    edgecolor=\"red\",\n",
        ")\n",
        "plt.gca().add_patch(rect)\n",
        "rect = Rectangle(\n",
        "    backreachable_set[[0, 1], 0],\n",
        "    backreachable_set[0, 1] - backreachable_set[0, 0],\n",
        "    backreachable_set[1, 1] - backreachable_set[1, 0],\n",
        "    fc=\"None\",\n",
        "    linewidth=2,\n",
        "    edgecolor=\"black\",\n",
        ")\n",
        "plt.gca().add_patch(rect)\n",
        "plt.show()"
      ],
      "metadata": {
        "id": "U9LhPmXQ1vqz"
      },
      "execution_count": null,
      "outputs": []
    },
    {
      "cell_type": "markdown",
      "source": [
        "# Problem 3: Extend/Improve the above algorithms in some way (Extra Credit)"
      ],
      "metadata": {
        "id": "Wxfyq8_8qG_Q"
      }
    },
    {
      "cell_type": "markdown",
      "source": [
        "There are lots of ways to potentially improve the baseline implementations  above. You can get extra credit by trying something interesting to improve the results (very open-ended). Some possible ideas:\n",
        "\n",
        "- Implement whichever version of `get_backprojection_set` you didn't implement before to see how the results differ\n",
        "- Use branch & bound to tighten the forward reachable sets on the bifurcating example (how should the branches be performed?)\n",
        "- Train a new control policy that enables tighter analysis ([here](https://github.com/neu-autonomy/nfl_veripy/blob/7d2011d8800e5951d6ddc67d0674c66553523d58/src/nfl_veripy/utils/controller_generation.py#L98) is the function used to generate the controller used in this notebook)\n",
        "- If using `jax_verify`, get JIT compilation to work and see how fast the results are ([here](https://github.com/google-deepmind/jax_verify/blob/fe8ea3c8da81350ca92203a5089d37c2b93f8583/jax_verify/tests/bound_propagation_test.py#L171) is an example of how to do this)\n",
        "- Somehow apply these methods to the context of RL (e.g., define a reward function for the task and bound the set of possible accumulated rewards)\n",
        "- Incorporate some noisy observation process (e.g., add uniform noise at each timestep within some known bounds) into the step function and bound calculation"
      ],
      "metadata": {
        "id": "qNjDuyoNqPLZ"
      }
    },
    {
      "cell_type": "code",
      "source": [],
      "metadata": {
        "id": "oAosulP31SiA"
      },
      "execution_count": null,
      "outputs": []
    },
    {
      "cell_type": "markdown",
      "source": [
        "All done!"
      ],
      "metadata": {
        "id": "nmKg8pm15U-l"
      }
    }
  ]
}