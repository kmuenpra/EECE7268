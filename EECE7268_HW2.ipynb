{
  "nbformat": 4,
  "nbformat_minor": 0,
  "metadata": {
    "colab": {
      "provenance": [],
      "include_colab_link": true
    },
    "kernelspec": {
      "name": "python3",
      "display_name": "Python 3"
    },
    "language_info": {
      "name": "python"
    }
  },
  "cells": [
    {
      "cell_type": "markdown",
      "metadata": {
        "id": "view-in-github",
        "colab_type": "text"
      },
      "source": [
        "<a href=\"https://colab.research.google.com/github/kmuenpra/EECE7268/blob/main/EECE7268_HW2.ipynb\" target=\"_parent\"><img src=\"https://colab.research.google.com/assets/colab-badge.svg\" alt=\"Open In Colab\"/></a>"
      ]
    },
    {
      "cell_type": "markdown",
      "source": [
        "# EECE/CS 7268: Verifiable Machine Learning -- Fall 2025\n",
        "# HW#2: Formal Verification\n",
        "\n",
        "**Submission Instructions:** Please upload a .ipynb file (including your code, plots, and written answers) to Gradescope. This file can be updated unlimited times until the submission deadline.\n",
        "\n",
        "The goal of this assignment is to give you hands-on experience with formal verification of neural networks. You will code some verification algorithms from scratch in the first few problems to build an understanding of how these concepts from class actually play out in code. Then, you will get to use some libraries to gain familiarity with state-of-the-art software in this research field.\n",
        "\n",
        "You're welcome to use PyTorch, TensorFlow, Keras, or other appropriate libraries to help make your life easier throughout the problems - we tried to make the function signatures somewhat framework-agnostic."
      ],
      "metadata": {
        "id": "d8n5f4t_BW7c"
      }
    },
    {
      "cell_type": "markdown",
      "source": [
        " **Please provide your collaboration statement here or we will assign a zero on this assignment**:\n"
      ],
      "metadata": {
        "id": "78VPN7GaPzoO"
      }
    },
    {
      "cell_type": "markdown",
      "source": [
        "For this assignment, we'll use the [NNet](https://github.com/sisl/nnet) format as a language/framework-agnostic description of a ReLU network and its parameters. Here are some possibly useful functions that convert between nnet, numpy arrays, and pytorch models (feel free to use these or not)."
      ],
      "metadata": {
        "id": "7GCrrocr3-SB"
      }
    },
    {
      "cell_type": "code",
      "source": [
        "import torch\n",
        "import numpy as np\n",
        "import cvxpy as cp\n",
        "from enum import Enum\n",
        "import matplotlib.pyplot as plt"
      ],
      "metadata": {
        "id": "1PkaMYBAIQXm"
      },
      "execution_count": 1,
      "outputs": []
    },
    {
      "cell_type": "code",
      "source": [
        "\n",
        "def nnet_to_weights_and_biases(nnet_filename: str) -> tuple[np.ndarray, np.ndarray]:\n",
        "  # load a nnet text file and extract the weights and biases\n",
        "\n",
        "  # converted this code from: https://github.com/sisl/NeuralVerification.jl/blob/957cb32081f37de57d84d7f0813f708288b56271/src/utils/util.jl#L10\n",
        "  with open(nnet_filename, 'r') as f:\n",
        "    line = f.readline()\n",
        "    while \"//\" in line: #skip comments\n",
        "      line = f.readline()\n",
        "    # number of layers\n",
        "    nlayers = int(line.strip().split(\",\")[0])\n",
        "    # read in layer sizes\n",
        "    layer_sizes = [int(x) for x in f.readline().split(\",\")[1:nlayers+1]]\n",
        "    # read past additonal information\n",
        "    for i in range(1, 6):\n",
        "      line = f.readline()\n",
        "    # i=1 corresponds to the input dimension, so it's ignored\n",
        "    Ws = []\n",
        "    bs = []\n",
        "    for dim in layer_sizes:\n",
        "      W = np.vstack([[float(x) for x in f.readline().rstrip(',\\n ').split(\",\")] for i in range(dim)])\n",
        "      b = np.array([float(f.readline().rstrip(',\\n ')) for _ in range(dim)])\n",
        "      Ws.append(W)\n",
        "      bs.append(b)\n",
        "\n",
        "  return Ws, bs\n",
        "\n",
        "def weights_and_biases_to_pytorch(Ws: list[np.ndarray], bs: list[np.ndarray]) -> torch.nn.Sequential:\n",
        "  # given weights and biases, create a torch.nn.Sequential model with relus\n",
        "  # btwn each linear layer (except no activation on final layer)\n",
        "\n",
        "  num_layers = len(Ws)\n",
        "\n",
        "  layers = []\n",
        "  for W, b in zip(Ws, bs):\n",
        "    out_features, in_features = W.shape\n",
        "    layer = torch.nn.Linear(in_features, out_features)\n",
        "    layer.weight = torch.nn.Parameter(torch.Tensor(W))\n",
        "    layer.bias = torch.nn.Parameter(torch.Tensor(b))\n",
        "    layers.append(layer)\n",
        "    layers.append(torch.nn.ReLU())\n",
        "\n",
        "  # don't add ReLU to end of NN\n",
        "  model = torch.nn.Sequential(*layers[:-1])\n",
        "  return model\n",
        "\n",
        "def nnet_to_pytorch(nnet_filename: str) -> torch.nn.Sequential:\n",
        "  # directly convert from nnet text file to pytorch model\n",
        "  Ws, bs = nnet_to_weights_and_biases(nnet_filename)\n",
        "  model = weights_and_biases_to_pytorch(Ws, bs)\n",
        "  return model\n",
        "\n",
        "def model_to_weights_and_biases(model: torch.nn.Sequential) -> tuple[np.ndarray, np.ndarray]:\n",
        "  # extract the weights and biases as numpy arrays from a torch.nn.Sequential model\n",
        "  Ws = []\n",
        "  bs = []\n",
        "  for idx, m in enumerate(model.modules()):\n",
        "    if isinstance(m, torch.nn.Sequential):\n",
        "      continue\n",
        "    elif isinstance(m, torch.nn.ReLU):\n",
        "      continue\n",
        "    elif isinstance(m, torch.nn.Linear):\n",
        "      Ws.append(m.weight.data.numpy())\n",
        "      bs.append(m.bias.data.numpy())\n",
        "    else:\n",
        "      print(\"That layer isn't supported.\")\n",
        "      assert 0\n",
        "  return Ws, bs"
      ],
      "metadata": {
        "id": "aq31nltZE4it"
      },
      "execution_count": 5,
      "outputs": []
    },
    {
      "cell_type": "code",
      "source": [
        "def nominal_and_epsilon_to_range(nominal: np.ndarray, epsilon: np.ndarray | float) -> np.ndarray:\n",
        "  return np.vstack([nominal-epsilon, nominal+epsilon]).T\n",
        "\n",
        "def range_to_nominal_and_epsilon(input_range: np.ndarray) -> tuple[np.ndarray, np.ndarray]:\n",
        "  nominal_input = (input_range[:, 1] + input_range[:, 0]) / 2.\n",
        "  epsilon = (input_range[:, 1] - input_range[:, 0]) / 2.\n",
        "  return nominal_input, epsilon"
      ],
      "metadata": {
        "id": "-k9pOOVv6CU0"
      },
      "execution_count": 6,
      "outputs": []
    },
    {
      "cell_type": "markdown",
      "source": [
        "For example, to load a NN controller for a cartpole system, then query the controller for its action at a particular state:"
      ],
      "metadata": {
        "id": "wBUJmk-s5Qd2"
      }
    },
    {
      "cell_type": "code",
      "source": [
        "print(\"Cartpole Controller\")\n",
        "\n",
        "# Load the NNet file and pass a nominal input to get the class logits\n",
        "nnet_filename = \"/content/cartpole_nnet-1.nnet\"\n",
        "nominal_input = torch.Tensor([[0., 0.1, 0.2, 0.3]]) # these 4 values correspond to the 4 states in cartpole\n",
        "model = nnet_to_pytorch(nnet_filename)\n",
        "Ws, bs = model_to_weights_and_biases(model)\n",
        "nominal_output = model(nominal_input)\n",
        "print(f\"{nominal_output=}\")\n",
        "\n",
        "# Also set up an example set of possible inputs to this NN\n",
        "epsilon = 0.1 # epsilon can be a scalar or a vec w/ same shape as nominal_input\n",
        "input_range = nominal_and_epsilon_to_range(nominal_input, epsilon)\n",
        "print(f\"{input_range=}\")"
      ],
      "metadata": {
        "id": "uSVI1MUj5Pk2",
        "colab": {
          "base_uri": "https://localhost:8080/"
        },
        "outputId": "6b245ccd-61d5-4b54-b622-2d7e7cc44dc8"
      },
      "execution_count": 7,
      "outputs": [
        {
          "output_type": "stream",
          "name": "stdout",
          "text": [
            "Cartpole Controller\n",
            "nominal_output=tensor([[12.9007, -1.4208]], grad_fn=<AddmmBackward0>)\n",
            "input_range=array([[-0.1       ,  0.1       ],\n",
            "       [ 0.        ,  0.2       ],\n",
            "       [ 0.1       ,  0.3       ],\n",
            "       [ 0.20000002,  0.4       ]], dtype=float32)\n"
          ]
        }
      ]
    },
    {
      "cell_type": "markdown",
      "source": [
        "# Problem 1: Sampling-Based Under-Approximations"
      ],
      "metadata": {
        "id": "KzPeANq0V5UW"
      }
    },
    {
      "cell_type": "markdown",
      "source": [
        "One way to approximate the set of possible NN outputs for a given set of possible NN inputs is by exhaustively sampling. Here, you will implement a simple sampling-based method for estimating the min and max values for each dimension of the NN output. This sampling-based strategy provides an under-approximation of the output set (and the corresponding rectangular bound is an under-approximation of the axis-aligned bounding box around the true output set).\n",
        "\n",
        "The cartpole NN only has 4 inputs and 2 outputs, so you can visualize its output samples easily.\n",
        "\n",
        "**Deliverables**:\n",
        "\n",
        "- Implement the `output_range_sampling` function\n",
        "- For the cartpole NN, plot your output samples and the corresponding rectangular bounds for a few different values of `num_samples`\n"
      ],
      "metadata": {
        "id": "a2nSdrKB2OOJ"
      }
    },
    {
      "cell_type": "code",
      "source": [
        "def output_range_sampling(nnet_filename: str, input_range: np.ndarray, num_samples: int) -> np.ndarray:\n",
        "\n",
        "  # Load the NNet file and pass a nominal input to get the class logits\n",
        "  model = nnet_to_pytorch(nnet_filename)\n",
        "  model.eval()\n",
        "\n",
        "  random_sample_X = np.random.uniform(low=input_range[:,0], high=input_range[:,1], size=(num_samples, len(input_range[:,0]))).astype(np.float32)\n",
        "  X_torch = torch.from_numpy(random_sample_X)\n",
        "\n",
        "  with torch.no_grad():\n",
        "      Y = model(X_torch).numpy()   # shape: (num_samples, m)\n",
        "      print(Y[:4])\n",
        "\n",
        "  # Compute elementwise min and max across samples\n",
        "  y0_min = np.min(Y[:,0], axis=0)\n",
        "  y0_max = np.max(Y[:,0], axis=0)\n",
        "\n",
        "  y1_min = np.min(Y[:,1], axis=0)\n",
        "  y1_max = np.max(Y[:,1], axis=0)\n",
        "\n",
        "  return Y, [[y0_min, y0_max], [y1_min, y1_max]]\n",
        "\n",
        "num_samples = int(1e4)\n",
        "output_samples, output_range = output_range_sampling(nnet_filename, input_range, num_samples)\n",
        "print(output_range)"
      ],
      "metadata": {
        "id": "LCmrgL-cV_C9",
        "colab": {
          "base_uri": "https://localhost:8080/"
        },
        "outputId": "429f4133-bc1f-41cb-a8f8-f0dc2a02411b"
      },
      "execution_count": 8,
      "outputs": [
        {
          "output_type": "stream",
          "name": "stdout",
          "text": [
            "[[13.593526  -1.5968206]\n",
            " [14.357749  -2.3275318]\n",
            " [12.5553465 -1.4362621]\n",
            " [12.115378  -1.3653457]]\n",
            "[[np.float32(11.309268), np.float32(16.124008)], [np.float32(-3.9856248), np.float32(-1.0998418)]]\n"
          ]
        }
      ]
    },
    {
      "cell_type": "code",
      "source": [
        "import matplotlib.pyplot as plt\n",
        "from matplotlib.patches import Rectangle\n",
        "\n",
        "output0_range  = output_range[0]\n",
        "output1_range  = output_range[1]\n",
        "\n",
        "fig, ax = plt.subplots()\n",
        "\n",
        "width  = output0_range[1] - output0_range[0]\n",
        "height = output1_range[1] - output1_range[0]\n",
        "r = Rectangle((output0_range[0], output1_range[0]), width, height, fill=False)\n",
        "ax.add_patch(r)\n",
        "ax.scatter(output_samples[:,0], output_samples[:,1])\n",
        "ax.set_title(\"output samples\")\n",
        "ax.set_xlabel(\"Output Dim 0\")\n",
        "ax.set_ylabel(\"Output Dim 1\")"
      ],
      "metadata": {
        "colab": {
          "base_uri": "https://localhost:8080/",
          "height": 489
        },
        "id": "ZH3j4Ttv4HCx",
        "outputId": "a8c9d593-e583-497b-ea0c-866c77cec046"
      },
      "execution_count": 9,
      "outputs": [
        {
          "output_type": "execute_result",
          "data": {
            "text/plain": [
              "Text(0, 0.5, 'Output Dim 1')"
            ]
          },
          "metadata": {},
          "execution_count": 9
        },
        {
          "output_type": "display_data",
          "data": {
            "text/plain": [
              "<Figure size 640x480 with 1 Axes>"
            ],
            "image/png": "[encoded data removed]"
          },
          "metadata": {}
        }
      ]
    },
    {
      "cell_type": "markdown",
      "source": [
        "# Problem 2: Interval Bound Propagation (IBP)"
      ],
      "metadata": {
        "id": "wMbeEqg6BlMk"
      }
    },
    {
      "cell_type": "markdown",
      "source": [
        "Now, you will implement the IBP algorithm to get *outer* bounds on the output set -- which are much more useful for proving that the NN will not produce undesired outputs. You may want to read [the IBP paper](https://arxiv.org/pdf/1810.12715.pdf) (especially around Eqn 6) to help with this.\n",
        "\n",
        "**Deliverables:**\n",
        "\n",
        "- Implement the `verify_ibp` function\n",
        "- Print the `output_range` from your IBP implementation\n",
        "- Plot your IBP rectangular bounds along with the samples from above to see how ridiculously loose IBP bounds can be"
      ],
      "metadata": {
        "id": "lTuoeXsjAURM"
      }
    },
    {
      "cell_type": "markdown",
      "source": [
        "### NOTE to Self\n",
        "\n",
        "Weight and bias:\n",
        "\n",
        "W1: (16, 4),   b1: (16,)\n",
        "\n",
        "W2: (16, 16),  b2: (16,)\n",
        "\n",
        "W3: (16, 16),  b3: (16,)\n",
        "\n",
        "W4: (2, 16),   b4: (2,)\n",
        "\n",
        "Network:\n",
        "\n",
        "Input (4) →\n",
        "\n",
        "Linear(4 → 16) → ReLU →\n",
        "\n",
        "Linear(16 → 16) → ReLU →\n",
        "\n",
        "Linear(16 → 16) → ReLU →\n",
        "\n",
        "Linear(16 → 2) → Output\n"
      ],
      "metadata": {
        "id": "YmJt8CIGFLfx"
      }
    },
    {
      "cell_type": "code",
      "source": [
        "def verify_ibp(nnet_filename: str, input_range: np.ndarray) -> np.ndarray:\n",
        "\n",
        "  # Load the NNet file and pass a nominal input to get the class logits\n",
        "  model = nnet_to_pytorch(nnet_filename)\n",
        "  model.eval()\n",
        "\n",
        "  Ws, bs = model_to_weights_and_biases(model)\n",
        "\n",
        "\n",
        "  #----------- IBP (Gowal, 2016) - Eq. 6 -----------\n",
        "  z_k_lb = input_range[:,0]\n",
        "  z_k_ub = input_range[:,1]\n",
        "\n",
        "  layer_count = 1 #Might be a better way\n",
        "  for W, b in zip(Ws, bs):\n",
        "    W = np.array(W)\n",
        "    b = np.array(b)\n",
        "\n",
        "    mu = (z_k_ub + z_k_lb)/2\n",
        "    r = (z_k_ub - z_k_lb)/2\n",
        "\n",
        "    # print(W.shape)\n",
        "    # print(mu.shape)\n",
        "    # print(r.shape)\n",
        "    # print(b.shape)\n",
        "    mu_k = W @ mu + b\n",
        "    r_k = np.absolute(W) @ r\n",
        "\n",
        "    z_k_lb = mu_k - r_k\n",
        "    z_k_ub = mu_k + r_k\n",
        "\n",
        "    if layer_count < len(Ws):\n",
        "      #apply Relu\n",
        "      z_k_lb = np.maximum(0, z_k_lb)\n",
        "      z_k_ub = np.maximum(0, z_k_ub)\n",
        "\n",
        "    layer_count += 1\n",
        "\n",
        "    #----------------------------------------------\n",
        "\n",
        "    # print(z_k_lb)\n",
        "    # print(z_k_ub)\n",
        "\n",
        "  return [np.array([z_k_lb[0],z_k_ub[0]]), np.array([z_k_lb[1],z_k_ub[1]])]\n",
        "\n",
        "output_range_ibp = verify_ibp(nnet_filename, input_range)\n",
        "print(f\"{output_range_ibp=}\")"
      ],
      "metadata": {
        "id": "0UaowPAfD2ZU",
        "colab": {
          "base_uri": "https://localhost:8080/"
        },
        "outputId": "4b48fc6b-b8fa-4cde-fb4e-9aea528b5960"
      },
      "execution_count": 10,
      "outputs": [
        {
          "output_type": "stream",
          "name": "stdout",
          "text": [
            "output_range_ibp=[array([-25.6073 ,  52.51912], dtype=float32), array([-32.457947,  23.750446], dtype=float32)]\n"
          ]
        }
      ]
    },
    {
      "cell_type": "markdown",
      "source": [
        "# Problem 3: Linear Program (LP)"
      ],
      "metadata": {
        "id": "1lNkJ9q7FN02"
      }
    },
    {
      "cell_type": "markdown",
      "source": [
        "Since IBP's bounds are usually too loose to say something useful about the NN's output set, you will now implement an LP-based verification algorithm that should provide much tighter bounds while remaining computationally reasonable.\n",
        "\n",
        "You will set up an LP (e.g., using `cvxpy` to set up variables, constraints, and objectives corresponding to the NN verification problem) for each side of the rectangle (i.e., min & max per output dimension, which can be done by simply changing the objective). To turn the ReLU constraints into linear equality/inequality constraints, you can check which neurons are \"active\", \"inactive\", or \"uncertain\" and add the corresponding relaxed constraints. To know which neurons belong to which category, you will need to acquire intermediate bounds -- there are lots of ways to do this!"
      ],
      "metadata": {
        "id": "VMPPb9KjAZfu"
      }
    },
    {
      "cell_type": "code",
      "source": [
        "def verify_lp(nnet_filename: str, input_range: np.ndarray) -> np.ndarray:\n",
        "\n",
        "  # TODO: implement this!\n",
        "\n",
        "  # Load the NNet file and pass a nominal input to get the class logits\n",
        "  model = nnet_to_pytorch(nnet_filename)\n",
        "  model.eval()\n",
        "\n",
        "  Ws, bs = model_to_weights_and_biases(model)\n",
        "\n",
        "  #input bounds\n",
        "  l_in = input_range[:,0]\n",
        "  u_in = input_range[:,1]\n",
        "\n",
        "  # Variables\n",
        "  x = cp.Variable(4)  # input\n",
        "  constraints = [x >= l_in, x <= u_in]  # input box constraints\n",
        "\n",
        "  y_prev = x\n",
        "  relu_outputs = []   # keep y vars for hidden layers\n",
        "  a_vars = []         # binary vars for each layer\n",
        "  bounds = []         # store (l,u) per layer\n",
        "\n",
        "  for layer_idx in range(len(Ws)-1):   # 3 hidden layers with ReLU\n",
        "      W, b = Ws[layer_idx], bs[layer_idx]\n",
        "\n",
        "      # I split the negative weights W.clip(min=0) and poistive weights W.clip(max=0)\n",
        "      # to compute the pre-activation bounds\n",
        "      l_z = W.clip(min=0) @ l_in + W.clip(max=0) @ u_in + b\n",
        "      u_z = W.clip(min=0) @ u_in + W.clip(max=0) @ l_in + b\n",
        "      bounds.append((l_z, u_z))\n",
        "\n",
        "      # Variables\n",
        "      z = W @ y_prev + b\n",
        "      y = cp.Variable(W.shape[0])\n",
        "      a = cp.Variable(W.shape[0], boolean=True) #binary var\n",
        "\n",
        "      # Add ReLU MILP constraints Check for active, inactive, uncertain\n",
        "      for j in range(W.shape[0]):\n",
        "          l_j, u_j = l_z[j], u_z[j]\n",
        "          constraints += [\n",
        "              y[j] <= z[j] - l_j*(1 - a[j]),\n",
        "              y[j] >= z[j],\n",
        "              y[j] <= u_j*a[j],\n",
        "              y[j] >= 0\n",
        "          ]\n",
        "\n",
        "      relu_outputs.append(y)\n",
        "      a_vars.append(a)\n",
        "\n",
        "      # Update bounds for next layer\n",
        "      l_in, u_in = np.maximum(0, l_z), np.maximum(0, u_z)\n",
        "      y_prev = y\n",
        "\n",
        "  # last layer without Relu\n",
        "  f_out = Ws[-1] @ y_prev + bs[-1]\n",
        "\n",
        "\n",
        "  #FINd tightest bound for output\n",
        "  output_range = []\n",
        "\n",
        "  #output Dim 1\n",
        "  c = np.array([1, 0])  # margin vector\n",
        "  objective = cp.Minimize(c @ f_out)\n",
        "  prob = cp.Problem(objective, constraints)\n",
        "  prob.solve(verbose=False)\n",
        "  output_range.append(f_out.value[0])\n",
        "\n",
        "  c = np.array([1, 0])  # margin vector\n",
        "  objective = cp.Maximize(c @ f_out)\n",
        "  prob = cp.Problem(objective, constraints)\n",
        "  prob.solve(verbose=False)\n",
        "  output_range.append(f_out.value[0])\n",
        "\n",
        "  #output Dim 2\n",
        "  c = np.array([0, 1])  # margin vector\n",
        "  objective = cp.Minimize(c @ f_out)\n",
        "  prob = cp.Problem(objective, constraints)\n",
        "  prob.solve(verbose=False)\n",
        "  output_range.append(f_out.value[1])\n",
        "\n",
        "  c = np.array([0, 1])  # margin vector\n",
        "  objective = cp.Maximize(c @ f_out)\n",
        "  prob = cp.Problem(objective, constraints)\n",
        "  prob.solve(verbose=False)\n",
        "  output_range.append(f_out.value[1])\n",
        "\n",
        "\n",
        "  return output_range\n",
        "\n",
        "output_range_lp = verify_lp(nnet_filename, input_range)\n",
        "print(f\"{output_range_lp=}\")"
      ],
      "metadata": {
        "id": "XsMaoa6aFXIa",
        "colab": {
          "base_uri": "https://localhost:8080/"
        },
        "outputId": "3b8f1911-f19e-46a6-c27e-f4a3fd9b56c1"
      },
      "execution_count": 11,
      "outputs": [
        {
          "output_type": "stream",
          "name": "stdout",
          "text": [
            "output_range_lp=[np.float64(11.166060961949457), np.float64(16.436482699165452), np.float64(-4.379835748243782), np.float64(-1.0875090467602182)]\n"
          ]
        }
      ]
    },
    {
      "cell_type": "markdown",
      "source": [
        "# Problem 4: Verify Classifier Robustness"
      ],
      "metadata": {
        "id": "LKmmrX0Guiep"
      }
    },
    {
      "cell_type": "markdown",
      "source": [
        "So far, you have written verification algorithms that provide upper and lower bounds on each output of the NN. Here, you will slightly modify your LP verifier so that it verifies the *robustness* of a *classifier* (i.e., prove that the classifier predicts the same class for every input within some range).\n",
        "\n",
        "If the verification algorithm is able to prove robustness, you should return `VerifierResults.Robust`. If the verification algorithm is unable to prove robustness, you should return `VerifierResults.Unsure` (remember that this doesn't necessarily mean the classifier isn't robust, just that our algorithm failed to find a proof). I also added a `VerifierResults.Timeout` option, because you will often see this in real verification algorithms, but you do not need to use this here.\n",
        "\n",
        "To start, you can pretend the cartpole controller was a classifier and try to see how large of an epsilon you can specify until you can't verify the robustness anymore.\n",
        "\n",
        "Then, you can load an MNIST classifier (code below) and try to see how large of an epsilon for which you can still verify robustness around a nominal image. Since the MNIST classifier is a way bigger NN, there will be some impact on the runtime of your LP.\n",
        "\n",
        "**Deliverables:**\n",
        "\n",
        "- Implement `verify_classification_robustness_lp`\n",
        "- Plot and/or briefly describe your findings w.r.t. robustness verification as you increase epsilon for the cartpole controller\n",
        "- Plot and/or briefly describe your findings w.r.t. robustness verification as you increase epsilon for the MNIST classifier"
      ],
      "metadata": {
        "id": "20SXabwqAfEZ"
      }
    },
    {
      "cell_type": "code",
      "source": [
        "class VerifierResults(Enum):\n",
        "  Robust = 0\n",
        "  Unsure = 1\n",
        "  Timeout = 2\n",
        "\n",
        "def verify_classification_robustness_lp(nnet_filename: str, input_range: np.ndarray) -> int:\n",
        "\n",
        "  import cvxpy as cp\n",
        "  import numpy as np\n",
        "\n",
        "  # Load network as before\n",
        "  model = nnet_to_pytorch(nnet_filename)\n",
        "  model.eval()\n",
        "  Ws, bs = model_to_weights_and_biases(model)\n",
        "\n",
        "  # For nominal input, find predicted class\n",
        "  nominal_input = np.mean(input_range, axis=1)  # center of the box\n",
        "  with torch.no_grad():\n",
        "      nominal_logits = model(torch.tensor(nominal_input, dtype=torch.float32))\n",
        "  k_star = int(torch.argmax(nominal_logits))  # predicted class\n",
        "\n",
        "  # MILP encoding\n",
        "  l_in = input_range[:, 0]\n",
        "  u_in = input_range[:, 1]\n",
        "\n",
        "  x = cp.Variable(4)\n",
        "  constraints = [x >= l_in, x <= u_in]\n",
        "\n",
        "  y_prev = x\n",
        "  for layer_idx in range(len(Ws) - 1):\n",
        "      W, b = Ws[layer_idx], bs[layer_idx]\n",
        "\n",
        "      l_z = W.clip(min=0) @ l_in + W.clip(max=0) @ u_in + b\n",
        "      u_z = W.clip(min=0) @ u_in + W.clip(max=0) @ l_in + b\n",
        "\n",
        "      z = W @ y_prev + b\n",
        "      y = cp.Variable(W.shape[0])\n",
        "      a = cp.Variable(W.shape[0], boolean=True)\n",
        "\n",
        "      for j in range(W.shape[0]):\n",
        "          l_j, u_j = l_z[j], u_z[j]\n",
        "          constraints += [\n",
        "              y[j] <= z[j] - l_j*(1 - a[j]),\n",
        "              y[j] >= z[j],\n",
        "              y[j] <= u_j*a[j],\n",
        "              y[j] >= 0\n",
        "          ] #from class LP relaxation\n",
        "\n",
        "      l_in, u_in = np.maximum(0, l_z), np.maximum(0, u_z)\n",
        "      y_prev = y\n",
        "\n",
        "  f_out = Ws[-1] @ y_prev + bs[-1]\n",
        "\n",
        "  # Verify classification robustness: for every other class i\n",
        "  n_classes = 2 #Left or Right\n",
        "  for i in range(n_classes):\n",
        "      if i == k_star:\n",
        "          continue\n",
        "\n",
        "      # Minimizing margin f_kstar - f_i over the input box\n",
        "      c = np.zeros(n_classes)\n",
        "      c[k_star] = 1\n",
        "      c[i] = -1\n",
        "      objective = cp.Minimize(c @ f_out)\n",
        "      prob = cp.Problem(objective, constraints)\n",
        "      val = prob.solve(verbose=False)\n",
        "\n",
        "      if val is None or val <= 0:\n",
        "          # MILP can't prove margin > 0\n",
        "          return VerifierResults.Unsure\n",
        "\n",
        "  return VerifierResults.Robust\n",
        "\n",
        "verifier_result = verify_classification_robustness_lp(nnet_filename, input_range)\n",
        "print(verifier_result)"
      ],
      "metadata": {
        "id": "y_vSMbXcvYWm",
        "outputId": "abe1f5fa-5e78-4e12-a7b8-113bfc68dafb",
        "colab": {
          "base_uri": "https://localhost:8080/"
        }
      },
      "execution_count": 12,
      "outputs": [
        {
          "output_type": "stream",
          "name": "stdout",
          "text": [
            "VerifierResults.Robust\n"
          ]
        }
      ]
    },
    {
      "cell_type": "markdown",
      "source": [
        "Plot robustness verification as you increase epsilon for the cartpole controller"
      ],
      "metadata": {
        "id": "VHU56a5CnCrq"
      }
    },
    {
      "cell_type": "code",
      "source": [
        "import matplotlib.pyplot as plt\n",
        "\n",
        "nnet_filename = \"/content/cartpole_nnet-1.nnet\"\n",
        "nominal_input = torch.Tensor([[0., 0.1, 0.2, 0.3]]) # these 4 values correspond to the 4 states in cartpole\n",
        "dims = 4\n",
        "epsilons = np.linspace(0.0, 1, 15)\n",
        "\n",
        "\n",
        "results = []\n",
        "for eps in epsilons:\n",
        "    if isinstance(eps, float):\n",
        "        eps_vec = eps * np.ones((dims,))\n",
        "    else:\n",
        "        eps_vec = eps\n",
        "\n",
        "    input_range = nominal_and_epsilon_to_range(nominal_input, eps_vec)\n",
        "    result = verify_classification_robustness_lp(nnet_filename, input_range)\n",
        "    results.append(result.value)  # use enum value (0 = Robust, 1 = Unsure)\n",
        "    print(f\"epsilon={eps:.4f}, result={result.name}\")\n",
        "\n",
        "# Plot\n",
        "plt.figure(figsize=(7, 4))\n",
        "plt.plot(epsilons, results, marker='o', color='black')\n",
        "plt.yticks([0, 1], [\"Robust\", \"Unsure\"])\n",
        "plt.xlabel(\"Epsilon (L-infinity perturbation)\")\n",
        "plt.ylabel(\"Verification Result\")\n",
        "plt.title(f\"Robustness Verification vs Epsilon\\n{\"CartPole Classifier\"}\")\n",
        "plt.grid(True)\n",
        "plt.ylim(-0.2, 1.2)\n",
        "plt.show()\n"
      ],
      "metadata": {
        "id": "i_GLJLTem2ra",
        "outputId": "7932da3d-e35a-4877-8eaa-b3467a21a445",
        "colab": {
          "base_uri": "https://localhost:8080/",
          "height": 746
        }
      },
      "execution_count": 14,
      "outputs": [
        {
          "output_type": "stream",
          "name": "stderr",
          "text": [
            "/tmp/ipython-input-3451332994.py:2: DeprecationWarning: __array_wrap__ must accept context and return_scalar arguments (positionally) in the future. (Deprecated NumPy 2.0)\n",
            "  return np.vstack([nominal-epsilon, nominal+epsilon]).T\n"
          ]
        },
        {
          "output_type": "stream",
          "name": "stdout",
          "text": [
            "epsilon=0.0000, result=Robust\n",
            "epsilon=0.0714, result=Robust\n",
            "epsilon=0.1429, result=Robust\n",
            "epsilon=0.2143, result=Robust\n",
            "epsilon=0.2857, result=Robust\n",
            "epsilon=0.3571, result=Robust\n",
            "epsilon=0.4286, result=Robust\n",
            "epsilon=0.5000, result=Robust\n",
            "epsilon=0.5714, result=Robust\n",
            "epsilon=0.6429, result=Unsure\n",
            "epsilon=0.7143, result=Unsure\n",
            "epsilon=0.7857, result=Unsure\n",
            "epsilon=0.8571, result=Unsure\n",
            "epsilon=0.9286, result=Unsure\n",
            "epsilon=1.0000, result=Unsure\n"
          ]
        },
        {
          "output_type": "display_data",
          "data": {
            "text/plain": [
              "<Figure size 700x400 with 1 Axes>"
            ],
            "image/png": "[encoded data removed]"
          },
          "metadata": {}
        }
      ]
    },
    {
      "cell_type": "markdown",
      "source": [
        "Load a NN classifier for MNIST, then query the model at a particular image:"
      ],
      "metadata": {
        "id": "OmTWXVJ65a1C"
      }
    },
    {
      "cell_type": "code",
      "source": [
        "from enum import Enum\n",
        "import torch\n",
        "import cvxpy as cp\n",
        "import numpy as np\n",
        "\n",
        "class VerifierResults(Enum):\n",
        "    Robust = 0\n",
        "    Unsure = 1\n",
        "    Timeout = 2\n",
        "\n",
        "def verify_mnist_robustness_lp(nnet_filename: str, input_range: np.ndarray) -> VerifierResults:\n",
        "    # Load NN model and weights\n",
        "    model = nnet_to_pytorch(nnet_filename)\n",
        "    model.eval()\n",
        "    Ws, bs = model_to_weights_and_biases(model)\n",
        "\n",
        "    # Use midpoint to get nominal input\n",
        "    nominal_input = np.mean(input_range, axis=1)\n",
        "    with torch.no_grad():\n",
        "        nominal_output = model(torch.tensor(nominal_input, dtype=torch.float32))\n",
        "    nominal_class = int(torch.argmax(nominal_output))\n",
        "\n",
        "    # MILP variables\n",
        "    x = cp.Variable(784)\n",
        "    l_in = input_range[:, 0]\n",
        "    u_in = input_range[:, 1]\n",
        "    constraints = [x >= l_in, x <= u_in]\n",
        "\n",
        "    y_prev = x\n",
        "    for i in range(len(Ws) - 1):  # All hidden layers with ReLU\n",
        "        W, b = Ws[i], bs[i]\n",
        "        l_z = W.clip(min=0) @ l_in + W.clip(max=0) @ u_in + b\n",
        "        u_z = W.clip(min=0) @ u_in + W.clip(max=0) @ l_in + b\n",
        "\n",
        "        z = W @ y_prev + b\n",
        "        y = cp.Variable(W.shape[0])\n",
        "        a = cp.Variable(W.shape[0], boolean=True)\n",
        "\n",
        "        for j in range(W.shape[0]):\n",
        "            l_j, u_j = l_z[j], u_z[j]\n",
        "            constraints += [\n",
        "                y[j] <= z[j] - l_j * (1 - a[j]),\n",
        "                y[j] >= z[j],\n",
        "                y[j] <= u_j * a[j],\n",
        "                y[j] >= 0\n",
        "            ]\n",
        "\n",
        "        l_in, u_in = np.maximum(0, l_z), np.maximum(0, u_z)\n",
        "        y_prev = y\n",
        "\n",
        "    # Final layer\n",
        "    f_out = Ws[-1] @ y_prev + bs[-1]\n",
        "    n_classes = f_out.shape[0]\n",
        "\n",
        "    # For all i ≠ nominal class, minimize margin f_nominal - f_i\n",
        "    for i in range(n_classes):\n",
        "        if i == nominal_class:\n",
        "            continue\n",
        "\n",
        "        c = np.zeros(n_classes)\n",
        "        c[nominal_class] = 1\n",
        "        c[i] = -1\n",
        "        objective = cp.Minimize(c @ f_out)\n",
        "        prob = cp.Problem(objective, constraints)\n",
        "        val = prob.solve(verbose=False)\n",
        "\n",
        "        if val is None or val <= 0:\n",
        "            return VerifierResults.Unsure\n",
        "\n",
        "    return VerifierResults.Robust\n"
      ],
      "metadata": {
        "id": "ACerdIxepVLV"
      },
      "execution_count": 16,
      "outputs": []
    },
    {
      "cell_type": "code",
      "source": [
        "print(\"MNIST Classifier\")\n",
        "\n",
        "# Load MNIST sample\n",
        "nnet_filename_mnist = \"/content/mnist1.nnet\"\n",
        "from tensorflow.keras.datasets import mnist\n",
        "(x_train, y_train), (x_test, y_test) = mnist.load_data()\n",
        "\n",
        "img_index = 2\n",
        "nominal_input_mnist = torch.Tensor(x_train[img_index].flatten())\n",
        "model_mnist = nnet_to_pytorch(nnet_filename_mnist)\n",
        "Ws_mnist, bs_mnist = model_to_weights_and_biases(model_mnist)\n",
        "nominal_output = model_mnist(nominal_input_mnist)\n",
        "nominal_class = nominal_output.argmax()\n",
        "print(f\"{nominal_output=}\")\n",
        "print(f\"Predicted Class: {nominal_class}, True Class: {y_train[img_index]}\")\n",
        "\n",
        "# Set input range with ε = 2\n",
        "epsilon = 2.0\n",
        "input_range_mnist = nominal_and_epsilon_to_range(nominal_input_mnist.numpy(), epsilon)\n",
        "print(f\"{input_range_mnist.shape=}\")\n",
        "\n",
        "# Run robustness check\n",
        "result = verify_mnist_robustness_lp(nnet_filename_mnist, input_range_mnist)\n",
        "print(\"Robustness result:\", result.name)\n"
      ],
      "metadata": {
        "id": "LlJYRiLv5fdU",
        "outputId": "b730f8d8-90c3-4a5d-cd50-e1f1e7c3db7f",
        "colab": {
          "base_uri": "https://localhost:8080/"
        }
      },
      "execution_count": 17,
      "outputs": [
        {
          "output_type": "stream",
          "name": "stdout",
          "text": [
            "MNIST Classifier\n",
            "nominal_output=tensor([ -130.8385, -1543.3896,   131.6747,   348.4881,   987.1153, -1114.0829,\n",
            "         -638.6053,   216.2303,   -85.5049,   418.8904],\n",
            "       grad_fn=<ViewBackward0>)\n",
            "Predicted Class: 4, True Class: 4\n",
            "input_range_mnist.shape=(784, 2)\n",
            "Robustness result: Robust\n"
          ]
        }
      ]
    },
    {
      "cell_type": "code",
      "source": [
        "verifier_result = verify_classification_robustness_lp(nnet_filename_mnist, input_range_mnist)"
      ],
      "metadata": {
        "id": "h5Z8Wsr-6HiQ"
      },
      "execution_count": null,
      "outputs": []
    },
    {
      "cell_type": "code",
      "source": [
        "epsilons = np.linspace(0.0, 5, 15)\n",
        "\n",
        "results = []\n",
        "for eps in epsilons:\n",
        "    if isinstance(eps, float):\n",
        "        eps_vec = eps * np.ones((784,))\n",
        "    else:\n",
        "        eps_vec = eps\n",
        "\n",
        "    input_range_mnist = nominal_and_epsilon_to_range(nominal_input_mnist.numpy(), eps_vec)\n",
        "    result = verify_mnist_robustness_lp(nnet_filename_mnist, input_range_mnist)\n",
        "    results.append(result.value)  # use enum value (0 = Robust, 1 = Unsure)\n",
        "    print(f\"epsilon={eps:.4f}, result={result.name}\")\n",
        "\n",
        "# Plot\n",
        "plt.figure(figsize=(7, 4))\n",
        "plt.plot(epsilons, results, marker='o', color='black')\n",
        "plt.yticks([0, 1], [\"Robust\", \"Unsure\"])\n",
        "plt.xlabel(\"Epsilon (L-infinity perturbation)\")\n",
        "plt.ylabel(\"Verification Result\")\n",
        "plt.title(f\"Robustness Verification vs Epsilon\\n{\"MNIST Classifier\"}\")\n",
        "plt.grid(True)\n",
        "plt.ylim(-0.2, 1.2)\n",
        "plt.show()"
      ],
      "metadata": {
        "id": "vO-Z10yfXoDa",
        "outputId": "56da5e01-618a-49b5-ef41-4692fcb62eaa",
        "colab": {
          "base_uri": "https://localhost:8080/",
          "height": 691
        }
      },
      "execution_count": 22,
      "outputs": [
        {
          "output_type": "stream",
          "name": "stdout",
          "text": [
            "epsilon=0.0000, result=Robust\n",
            "epsilon=0.3571, result=Robust\n",
            "epsilon=0.7143, result=Robust\n",
            "epsilon=1.0714, result=Robust\n",
            "epsilon=1.4286, result=Robust\n",
            "epsilon=1.7857, result=Robust\n",
            "epsilon=2.1429, result=Robust\n",
            "epsilon=2.5000, result=Robust\n",
            "epsilon=2.8571, result=Robust\n",
            "epsilon=3.2143, result=Robust\n",
            "epsilon=3.5714, result=Robust\n",
            "epsilon=3.9286, result=Robust\n",
            "epsilon=4.2857, result=Unsure\n",
            "epsilon=4.6429, result=Unsure\n",
            "epsilon=5.0000, result=Unsure\n"
          ]
        },
        {
          "output_type": "display_data",
          "data": {
            "text/plain": [
              "<Figure size 700x400 with 1 Axes>"
            ],
            "image/png": "[encoded data removed]"
          },
          "metadata": {}
        }
      ]
    },
    {
      "cell_type": "markdown",
      "source": [
        "# Problem 5: Explore the `jax_verify` library for verification"
      ],
      "metadata": {
        "id": "O6LR1io6Bpht"
      }
    },
    {
      "cell_type": "markdown",
      "source": [
        "There are a few excellent open-source libraries for NN verification. For example, `jax_verify` has implementations of IBP, CROWN, and many other algorithms. These methods can handle a broader class of NNs than just the ReLU NNs you worked with above, so they may be useful tools to leverage in your research or projects.\n",
        "\n",
        "A big upside of `jax_verify` is that it supports JIT compilation, which can speed up verification algorithms by 10-100x (you don't need to set up JIT compilation for this assignment, but you're encouraged to try that out if you're curious).\n",
        "\n",
        "Note that the `jax_verify` that is available by default in PyPi is an old version from 2020 that has a slightly different API - installing a more recent version is recommended as we do below."
      ],
      "metadata": {
        "id": "RWh1SWEEAkND"
      }
    },
    {
      "cell_type": "code",
      "source": [
        "# Install my fork of jax_verify, which fixes a few deprecation errors in the mainline repo\n",
        "!pip install git+https://gitlab.com/neu-autonomy/certifiable-learning/jax_verify@mainline_repo"
      ],
      "metadata": {
        "id": "7ic1irPeBiZZ"
      },
      "execution_count": null,
      "outputs": []
    },
    {
      "cell_type": "code",
      "source": [
        "import jax.numpy as jnp\n",
        "import jax_verify\n",
        "import functools"
      ],
      "metadata": {
        "id": "XisKYJtrp1JX"
      },
      "execution_count": null,
      "outputs": []
    },
    {
      "cell_type": "markdown",
      "source": [
        "Some utility methods that help set up the NN in jax:"
      ],
      "metadata": {
        "id": "NbNHanmT3il0"
      }
    },
    {
      "cell_type": "code",
      "source": [
        "def pytorch_model_to_jax(torch_model: torch.nn.Sequential):\n",
        "  params = []\n",
        "  act = None\n",
        "\n",
        "  # Extract params (weights, biases) from torch layers, to be used in\n",
        "  # jax.\n",
        "  # Note: This propagator assumes a feed-forward relu NN.\n",
        "  for m in torch_model.modules():\n",
        "    if isinstance(m, torch.nn.Sequential):\n",
        "      continue\n",
        "    elif isinstance(m, torch.nn.ReLU):\n",
        "      if act is None or act == \"relu\":\n",
        "        act = \"relu\"\n",
        "    elif isinstance(m, torch.nn.Linear):\n",
        "      w = m.weight.data.numpy().T\n",
        "      b = m.bias.data.numpy()\n",
        "      params.append((w, b))\n",
        "  return functools.partial(relu_nn, params)\n",
        "\n",
        "def relu_nn(params, inputs):\n",
        "  for W, b in params[:-1]:\n",
        "    outputs = jnp.dot(inputs, W) + b\n",
        "    inputs = jnp.maximum(outputs, 0)\n",
        "  W, b = params[-1]\n",
        "  return jnp.dot(inputs, W) + b\n",
        "\n",
        "def jax_interval_to_np_range(interval: jax_verify.IntervalBound) -> np.ndarray:\n",
        "  return np.vstack([interval.lower, interval.upper]).T\n",
        "\n",
        "def np_range_to_jax_interval(input_range: np.ndarray) -> jax_verify.IntervalBound:\n",
        "  return jax_verify.IntervalBound(input_range[:, 0], input_range[:, 1])\n",
        "\n",
        "jax_model = pytorch_model_to_jax(model)"
      ],
      "metadata": {
        "id": "UAg7ZvB5o-vs"
      },
      "execution_count": null,
      "outputs": []
    },
    {
      "cell_type": "markdown",
      "source": [
        "An example of using jax_verify's implementation of IBP on our cartpole control NN"
      ],
      "metadata": {
        "id": "dhi8nfG53v8V"
      }
    },
    {
      "cell_type": "code",
      "source": [
        "# Example of a fwd pass on the NN using jax\n",
        "nominal_output_jax = jax_model(jnp.array(nominal_input))\n",
        "\n",
        "# Example of computing bounds using IBP as implemented by jax_verify\n",
        "input_bounds = np_range_to_jax_interval(input_range)\n",
        "output_bounds_ibp_jax = jax_verify.interval_bound_propagation(\n",
        "    jax_model, input_bounds)\n",
        "output_range_ibp_jax = jax_interval_to_np_range(output_bounds_ibp_jax)\n",
        "print(f\"output bounds via IBP (jax_verify): \\n{output_range_ibp_jax}\")"
      ],
      "metadata": {
        "id": "V2YWoAyD3pur"
      },
      "execution_count": null,
      "outputs": []
    },
    {
      "cell_type": "markdown",
      "source": [
        "Does that output match the output of your IBP implementation?"
      ],
      "metadata": {
        "id": "Q6bl9cwNyHOD"
      }
    },
    {
      "cell_type": "markdown",
      "source": [
        "Now for your job: take a look at jax_verify's documentation to see how to use the backward CROWN verifier.\n",
        "\n",
        "**Deliverables:**\n",
        "\n",
        "- output bounds using backward CROWN, rather than IBP"
      ],
      "metadata": {
        "id": "dkY2_OOayXJ7"
      }
    },
    {
      "cell_type": "code",
      "source": [],
      "metadata": {
        "id": "GYsSp-XC0gcO"
      },
      "execution_count": null,
      "outputs": []
    },
    {
      "cell_type": "markdown",
      "source": [
        "# Problem 6: Explore the `auto-LiRPA` library for verification"
      ],
      "metadata": {
        "id": "y7SInFa3zGmz"
      }
    },
    {
      "cell_type": "markdown",
      "source": [
        "`auto-LiRPA` is a verification library based on PyTorch and one of the main developers was a Northeastern PhD student (Kaidi Xu)!\n",
        "\n",
        "Just like with the previous problem, the next cells show you how to install the package and run IBP, then we ask you to look into their documentation and run backward CROWN on the same problem.\n",
        "\n",
        "**Note:** I suggest doing this part last, because pip may try to downgrade the version of pytorch installed to satisfy requirements. You may also need to restart your kernel after the pip install. If you're on Colab and things seem messed up, you can always do `Runtime > Disconnect and delete runtime` (stronger than restarting the runtime, which doesn't reset to the default set of installed packages)."
      ],
      "metadata": {
        "id": "1Y6E6KwYAoNK"
      }
    },
    {
      "cell_type": "code",
      "source": [
        "!pip install auto-lirpa"
      ],
      "metadata": {
        "id": "87SnKjZJ0i9Z"
      },
      "execution_count": null,
      "outputs": []
    },
    {
      "cell_type": "markdown",
      "source": [
        "An example of using jax_verify's implementation of IBP on our cartpole control NN:"
      ],
      "metadata": {
        "id": "G0C_PPb96xiy"
      }
    },
    {
      "cell_type": "code",
      "source": [
        "from auto_LiRPA import BoundedModule, BoundedTensor, PerturbationLpNorm\n",
        "\n",
        "# Wrap the model with auto_LiRPA.\n",
        "model = BoundedModule(model, torch.Tensor(nominal_input))\n",
        "# Define perturbation. Here we add Linf perturbation to input data.\n",
        "ptb = PerturbationLpNorm(norm=np.inf, eps=torch.Tensor([epsilon]))\n",
        "# Make the input a BoundedTensor with the pre-defined perturbation.\n",
        "my_input = BoundedTensor(torch.Tensor(nominal_input), ptb)\n",
        "# Regular forward propagation using BoundedTensor works as usual.\n",
        "prediction = model(my_input)\n",
        "# Compute LiRPA bounds using IBP\n",
        "lb, ub = model.compute_bounds(x=(my_input,), method=\"ibp\")\n",
        "output_range_ibp_autolirpa = np.vstack([lb.detach().numpy(), ub.detach().numpy()]).T\n",
        "print(f\"output bounds via IBP (auto-lirpa): \\n{output_range_ibp_autolirpa}\")"
      ],
      "metadata": {
        "id": "CYx4P1PG0kd5"
      },
      "execution_count": null,
      "outputs": []
    },
    {
      "cell_type": "markdown",
      "source": [
        "Does that match your implementation of IBP? What about `jax_verify`'s?"
      ],
      "metadata": {
        "id": "K_N0KiGy64dW"
      }
    },
    {
      "cell_type": "markdown",
      "source": [
        "Now for your job: compute output bounds using `auto-LiRPA`'s implementation of backward CROWN\n",
        "\n",
        "**Deliverables:**\n",
        "\n",
        "- output bounds using backward CROWN, rather than IBP"
      ],
      "metadata": {
        "id": "ZWHwMApQ1_FN"
      }
    },
    {
      "cell_type": "code",
      "source": [],
      "metadata": {
        "id": "oAosulP31SiA"
      },
      "execution_count": null,
      "outputs": []
    },
    {
      "cell_type": "markdown",
      "source": [
        "All done!"
      ],
      "metadata": {
        "id": "nmKg8pm15U-l"
      }
    }
  ]
}