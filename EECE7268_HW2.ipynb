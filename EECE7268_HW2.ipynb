{
  "nbformat": 4,
  "nbformat_minor": 0,
  "metadata": {
    "colab": {
      "provenance": [],
      "include_colab_link": true
    },
    "kernelspec": {
      "name": "python3",
      "display_name": "Python 3"
    },
    "language_info": {
      "name": "python"
    }
  },
  "cells": [
    {
      "cell_type": "markdown",
      "metadata": {
        "id": "view-in-github",
        "colab_type": "text"
      },
      "source": [
        "<a href=\"https://colab.research.google.com/github/kmuenpra/EECE7268/blob/main/EECE7268_HW2.ipynb\" target=\"_parent\"><img src=\"https://colab.research.google.com/assets/colab-badge.svg\" alt=\"Open In Colab\"/></a>"
      ]
    },
    {
      "cell_type": "markdown",
      "source": [
        "# EECE/CS 7268: Verifiable Machine Learning -- Fall 2025\n",
        "# HW#2: Formal Verification\n",
        "\n",
        "**Submission Instructions:** Please upload a .ipynb file (including your code, plots, and written answers) to Gradescope. This file can be updated unlimited times until the submission deadline.\n",
        "\n",
        "The goal of this assignment is to give you hands-on experience with formal verification of neural networks. You will code some verification algorithms from scratch in the first few problems to build an understanding of how these concepts from class actually play out in code. Then, you will get to use some libraries to gain familiarity with state-of-the-art software in this research field.\n",
        "\n",
        "You're welcome to use PyTorch, TensorFlow, Keras, or other appropriate libraries to help make your life easier throughout the problems - we tried to make the function signatures somewhat framework-agnostic."
      ],
      "metadata": {
        "id": "d8n5f4t_BW7c"
      }
    },
    {
      "cell_type": "markdown",
      "source": [
        " **Please provide your collaboration statement here or we will assign a zero on this assignment**:\n"
      ],
      "metadata": {
        "id": "78VPN7GaPzoO"
      }
    },
    {
      "cell_type": "markdown",
      "source": [
        "For this assignment, we'll use the [NNet](https://github.com/sisl/nnet) format as a language/framework-agnostic description of a ReLU network and its parameters. Here are some possibly useful functions that convert between nnet, numpy arrays, and pytorch models (feel free to use these or not)."
      ],
      "metadata": {
        "id": "7GCrrocr3-SB"
      }
    },
    {
      "cell_type": "code",
      "source": [
        "import torch\n",
        "import numpy as np\n",
        "import cvxpy as cp\n",
        "from enum import Enum\n",
        "import matplotlib.pyplot as plt"
      ],
      "metadata": {
        "id": "1PkaMYBAIQXm"
      },
      "execution_count": 1,
      "outputs": []
    },
    {
      "cell_type": "code",
      "source": [
        "\n",
        "def nnet_to_weights_and_biases(nnet_filename: str) -> tuple[np.ndarray, np.ndarray]:\n",
        "  # load a nnet text file and extract the weights and biases\n",
        "\n",
        "  # converted this code from: https://github.com/sisl/NeuralVerification.jl/blob/957cb32081f37de57d84d7f0813f708288b56271/src/utils/util.jl#L10\n",
        "  with open(nnet_filename, 'r') as f:\n",
        "    line = f.readline()\n",
        "    while \"//\" in line: #skip comments\n",
        "      line = f.readline()\n",
        "    # number of layers\n",
        "    nlayers = int(line.strip().split(\",\")[0])\n",
        "    # read in layer sizes\n",
        "    layer_sizes = [int(x) for x in f.readline().split(\",\")[1:nlayers+1]]\n",
        "    # read past additonal information\n",
        "    for i in range(1, 6):\n",
        "      line = f.readline()\n",
        "    # i=1 corresponds to the input dimension, so it's ignored\n",
        "    Ws = []\n",
        "    bs = []\n",
        "    for dim in layer_sizes:\n",
        "      W = np.vstack([[float(x) for x in f.readline().rstrip(',\\n ').split(\",\")] for i in range(dim)])\n",
        "      b = np.array([float(f.readline().rstrip(',\\n ')) for _ in range(dim)])\n",
        "      Ws.append(W)\n",
        "      bs.append(b)\n",
        "\n",
        "  return Ws, bs\n",
        "\n",
        "def weights_and_biases_to_pytorch(Ws: list[np.ndarray], bs: list[np.ndarray]) -> torch.nn.Sequential:\n",
        "  # given weights and biases, create a torch.nn.Sequential model with relus\n",
        "  # btwn each linear layer (except no activation on final layer)\n",
        "\n",
        "  num_layers = len(Ws)\n",
        "\n",
        "  layers = []\n",
        "  for W, b in zip(Ws, bs):\n",
        "    out_features, in_features = W.shape\n",
        "    layer = torch.nn.Linear(in_features, out_features)\n",
        "    layer.weight = torch.nn.Parameter(torch.Tensor(W))\n",
        "    layer.bias = torch.nn.Parameter(torch.Tensor(b))\n",
        "    layers.append(layer)\n",
        "    layers.append(torch.nn.ReLU())\n",
        "\n",
        "  # don't add ReLU to end of NN\n",
        "  model = torch.nn.Sequential(*layers[:-1])\n",
        "  return model\n",
        "\n",
        "def nnet_to_pytorch(nnet_filename: str) -> torch.nn.Sequential:\n",
        "  # directly convert from nnet text file to pytorch model\n",
        "  Ws, bs = nnet_to_weights_and_biases(nnet_filename)\n",
        "  model = weights_and_biases_to_pytorch(Ws, bs)\n",
        "  return model\n",
        "\n",
        "def model_to_weights_and_biases(model: torch.nn.Sequential) -> tuple[np.ndarray, np.ndarray]:\n",
        "  # extract the weights and biases as numpy arrays from a torch.nn.Sequential model\n",
        "  Ws = []\n",
        "  bs = []\n",
        "  for idx, m in enumerate(model.modules()):\n",
        "    if isinstance(m, torch.nn.Sequential):\n",
        "      continue\n",
        "    elif isinstance(m, torch.nn.ReLU):\n",
        "      continue\n",
        "    elif isinstance(m, torch.nn.Linear):\n",
        "      Ws.append(m.weight.data.numpy())\n",
        "      bs.append(m.bias.data.numpy())\n",
        "    else:\n",
        "      print(\"That layer isn't supported.\")\n",
        "      assert 0\n",
        "  return Ws, bs"
      ],
      "metadata": {
        "id": "aq31nltZE4it"
      },
      "execution_count": 2,
      "outputs": []
    },
    {
      "cell_type": "code",
      "source": [
        "def nominal_and_epsilon_to_range(nominal: np.ndarray, epsilon: np.ndarray | float) -> np.ndarray:\n",
        "  return np.vstack([nominal-epsilon, nominal+epsilon]).T\n",
        "\n",
        "def range_to_nominal_and_epsilon(input_range: np.ndarray) -> tuple[np.ndarray, np.ndarray]:\n",
        "  nominal_input = (input_range[:, 1] + input_range[:, 0]) / 2.\n",
        "  epsilon = (input_range[:, 1] - input_range[:, 0]) / 2.\n",
        "  return nominal_input, epsilon"
      ],
      "metadata": {
        "id": "-k9pOOVv6CU0"
      },
      "execution_count": 3,
      "outputs": []
    },
    {
      "cell_type": "markdown",
      "source": [
        "For example, to load a NN controller for a cartpole system, then query the controller for its action at a particular state:"
      ],
      "metadata": {
        "id": "wBUJmk-s5Qd2"
      }
    },
    {
      "cell_type": "code",
      "source": [
        "print(\"Cartpole Controller\")\n",
        "\n",
        "# Load the NNet file and pass a nominal input to get the class logits\n",
        "nnet_filename = \"/content/cartpole_nnet-1.nnet\"\n",
        "nominal_input = torch.Tensor([[0., 0.1, 0.2, 0.3]]) # these 4 values correspond to the 4 states in cartpole\n",
        "model = nnet_to_pytorch(nnet_filename)\n",
        "Ws, bs = model_to_weights_and_biases(model)\n",
        "nominal_output = model(nominal_input)\n",
        "print(f\"{nominal_output=}\")\n",
        "\n",
        "# Also set up an example set of possible inputs to this NN\n",
        "epsilon = 0.1 # epsilon can be a scalar or a vec w/ same shape as nominal_input\n",
        "input_range = nominal_and_epsilon_to_range(nominal_input, epsilon)\n",
        "print(f\"{input_range=}\")"
      ],
      "metadata": {
        "id": "uSVI1MUj5Pk2",
        "colab": {
          "base_uri": "https://localhost:8080/"
        },
        "outputId": "f5dc9828-d857-44a6-e398-c0ce9286a006"
      },
      "execution_count": 4,
      "outputs": [
        {
          "output_type": "stream",
          "name": "stdout",
          "text": [
            "Cartpole Controller\n",
            "nominal_output=tensor([[12.9007, -1.4208]], grad_fn=<AddmmBackward0>)\n",
            "input_range=array([[-0.1       ,  0.1       ],\n",
            "       [ 0.        ,  0.2       ],\n",
            "       [ 0.1       ,  0.3       ],\n",
            "       [ 0.20000002,  0.4       ]], dtype=float32)\n"
          ]
        }
      ]
    },
    {
      "cell_type": "markdown",
      "source": [
        "# Problem 1: Sampling-Based Under-Approximations"
      ],
      "metadata": {
        "id": "KzPeANq0V5UW"
      }
    },
    {
      "cell_type": "markdown",
      "source": [
        "One way to approximate the set of possible NN outputs for a given set of possible NN inputs is by exhaustively sampling. Here, you will implement a simple sampling-based method for estimating the min and max values for each dimension of the NN output. This sampling-based strategy provides an under-approximation of the output set (and the corresponding rectangular bound is an under-approximation of the axis-aligned bounding box around the true output set).\n",
        "\n",
        "The cartpole NN only has 4 inputs and 2 outputs, so you can visualize its output samples easily.\n",
        "\n",
        "**Deliverables**:\n",
        "\n",
        "- Implement the `output_range_sampling` function\n",
        "- For the cartpole NN, plot your output samples and the corresponding rectangular bounds for a few different values of `num_samples`\n"
      ],
      "metadata": {
        "id": "a2nSdrKB2OOJ"
      }
    },
    {
      "cell_type": "code",
      "source": [
        "def output_range_sampling(nnet_filename: str, input_range: np.ndarray, num_samples: int) -> np.ndarray:\n",
        "\n",
        "  # Load the NNet file and pass a nominal input to get the class logits\n",
        "  model = nnet_to_pytorch(nnet_filename)\n",
        "  model.eval()\n",
        "\n",
        "  random_sample_X = np.random.uniform(low=input_range[:,0], high=input_range[:,1], size=(num_samples, len(input_range[:,0]))).astype(np.float32)\n",
        "  X_torch = torch.from_numpy(random_sample_X)\n",
        "\n",
        "  with torch.no_grad():\n",
        "      Y = model(X_torch).numpy()   # shape: (num_samples, m)\n",
        "      print(Y[:4])\n",
        "\n",
        "  # Compute elementwise min and max across samples\n",
        "  y0_min = np.min(Y[:,0], axis=0)\n",
        "  y0_max = np.max(Y[:,0], axis=0)\n",
        "\n",
        "  y1_min = np.min(Y[:,1], axis=0)\n",
        "  y1_max = np.max(Y[:,1], axis=0)\n",
        "\n",
        "  return Y, [[y0_min, y0_max], [y1_min, y1_max]]\n",
        "\n",
        "num_samples = int(1e4)\n",
        "output_samples, output_range = output_range_sampling(nnet_filename, input_range, num_samples)\n",
        "print(output_range)"
      ],
      "metadata": {
        "id": "LCmrgL-cV_C9",
        "colab": {
          "base_uri": "https://localhost:8080/"
        },
        "outputId": "7588ab52-a863-48a5-e703-679125c51513"
      },
      "execution_count": 5,
      "outputs": [
        {
          "output_type": "stream",
          "name": "stdout",
          "text": [
            "[[14.262452  -2.0962849]\n",
            " [14.046324  -1.8838692]\n",
            " [13.176566  -1.3319683]\n",
            " [13.816395  -1.5710762]]\n",
            "[[11.333226, 15.862892], [-3.752565, -1.0935085]]\n"
          ]
        }
      ]
    },
    {
      "cell_type": "code",
      "source": [
        "import matplotlib.pyplot as plt\n",
        "from matplotlib.patches import Rectangle\n",
        "\n",
        "output0_range  = output_range[0]\n",
        "output1_range  = output_range[1]\n",
        "\n",
        "fig, ax = plt.subplots()\n",
        "\n",
        "width  = output0_range[1] - output0_range[0]\n",
        "height = output1_range[1] - output1_range[0]\n",
        "r = Rectangle((output0_range[0], output1_range[0]), width, height, fill=False)\n",
        "ax.add_patch(r)\n",
        "ax.scatter(output_samples[:,0], output_samples[:,1])\n",
        "ax.set_title(\"output bounds using sample approximation\")\n",
        "ax.set_xlabel(\"Output Dim 0\")\n",
        "ax.set_ylabel(\"Output Dim 1\")"
      ],
      "metadata": {
        "colab": {
          "base_uri": "https://localhost:8080/",
          "height": 489
        },
        "id": "ZH3j4Ttv4HCx",
        "outputId": "d41129ac-db2e-48ae-c696-a05875493406"
      },
      "execution_count": 6,
      "outputs": [
        {
          "output_type": "execute_result",
          "data": {
            "text/plain": [
              "Text(0, 0.5, 'Output Dim 1')"
            ]
          },
          "metadata": {},
          "execution_count": 6
        },
        {
          "output_type": "display_data",
          "data": {
            "text/plain": [
              "<Figure size 640x480 with 1 Axes>"
            ],
            "image/png": "[encoded data removed]"
          },
          "metadata": {}
        }
      ]
    },
    {
      "cell_type": "markdown",
      "source": [
        "# Problem 2: Interval Bound Propagation (IBP)"
      ],
      "metadata": {
        "id": "wMbeEqg6BlMk"
      }
    },
    {
      "cell_type": "markdown",
      "source": [
        "Now, you will implement the IBP algorithm to get *outer* bounds on the output set -- which are much more useful for proving that the NN will not produce undesired outputs. You may want to read [the IBP paper](https://arxiv.org/pdf/1810.12715.pdf) (especially around Eqn 6) to help with this.\n",
        "\n",
        "**Deliverables:**\n",
        "\n",
        "- Implement the `verify_ibp` function\n",
        "- Print the `output_range` from your IBP implementation\n",
        "- Plot your IBP rectangular bounds along with the samples from above to see how ridiculously loose IBP bounds can be"
      ],
      "metadata": {
        "id": "lTuoeXsjAURM"
      }
    },
    {
      "cell_type": "markdown",
      "source": [
        "### NOTE to Self\n",
        "\n",
        "Weight and bias:\n",
        "\n",
        "W1: (16, 4),   b1: (16,)\n",
        "\n",
        "W2: (16, 16),  b2: (16,)\n",
        "\n",
        "W3: (16, 16),  b3: (16,)\n",
        "\n",
        "W4: (2, 16),   b4: (2,)\n",
        "\n",
        "Network:\n",
        "\n",
        "Input (4) →\n",
        "\n",
        "Linear(4 → 16) → ReLU →\n",
        "\n",
        "Linear(16 → 16) → ReLU →\n",
        "\n",
        "Linear(16 → 16) → ReLU →\n",
        "\n",
        "Linear(16 → 2) → Output\n"
      ],
      "metadata": {
        "id": "YmJt8CIGFLfx"
      }
    },
    {
      "cell_type": "code",
      "source": [
        "def verify_ibp(nnet_filename: str, input_range: np.ndarray) -> np.ndarray:\n",
        "\n",
        "  # Load the NNet file and pass a nominal input to get the class logits\n",
        "  model = nnet_to_pytorch(nnet_filename)\n",
        "  model.eval()\n",
        "\n",
        "  Ws, bs = model_to_weights_and_biases(model)\n",
        "\n",
        "\n",
        "  #----------- IBP (Gowal, 2016) - Eq. 6 -----------\n",
        "  z_k_lb = input_range[:,0]\n",
        "  z_k_ub = input_range[:,1]\n",
        "\n",
        "  layer_count = 1 #Might be a better way\n",
        "  for W, b in zip(Ws, bs):\n",
        "    W = np.array(W)\n",
        "    b = np.array(b)\n",
        "\n",
        "    mu = (z_k_ub + z_k_lb)/2\n",
        "    r = (z_k_ub - z_k_lb)/2\n",
        "\n",
        "    # print(W.shape)\n",
        "    # print(mu.shape)\n",
        "    # print(r.shape)\n",
        "    # print(b.shape)\n",
        "    mu_k = W @ mu + b\n",
        "    r_k = np.absolute(W) @ r\n",
        "\n",
        "    z_k_lb = mu_k - r_k\n",
        "    z_k_ub = mu_k + r_k\n",
        "\n",
        "    if layer_count < len(Ws):\n",
        "      #apply Relu\n",
        "      z_k_lb = np.maximum(0, z_k_lb)\n",
        "      z_k_ub = np.maximum(0, z_k_ub)\n",
        "\n",
        "    layer_count += 1\n",
        "\n",
        "    #----------------------------------------------\n",
        "\n",
        "    # print(z_k_lb)\n",
        "    # print(z_k_ub)\n",
        "\n",
        "  return [np.array([z_k_lb[0],z_k_ub[0]]), np.array([z_k_lb[1],z_k_ub[1]])]\n",
        "\n",
        "output_range_ibp = verify_ibp(nnet_filename, input_range)\n",
        "print(f\"{output_range_ibp=}\")"
      ],
      "metadata": {
        "id": "0UaowPAfD2ZU",
        "colab": {
          "base_uri": "https://localhost:8080/"
        },
        "outputId": "b71b3dda-b037-4e5c-e87b-57457642bca3"
      },
      "execution_count": 7,
      "outputs": [
        {
          "output_type": "stream",
          "name": "stdout",
          "text": [
            "output_range_ibp=[array([-25.6073 ,  52.51912], dtype=float32), array([-32.457947,  23.750446], dtype=float32)]\n"
          ]
        }
      ]
    },
    {
      "cell_type": "code",
      "source": [
        "import matplotlib.pyplot as plt\n",
        "from matplotlib.patches import Rectangle\n",
        "\n",
        "output0_range  = output_range_ibp[0]\n",
        "output1_range  = output_range_ibp[1]\n",
        "\n",
        "fig, ax = plt.subplots()\n",
        "\n",
        "width  = output0_range[1] - output0_range[0]\n",
        "height = output1_range[1] - output1_range[0]\n",
        "r = Rectangle((output0_range[0], output1_range[0]), width, height, fill=False, edgecolor='green')\n",
        "ax.add_patch(r)\n",
        "ax.scatter(output_samples[:,0], output_samples[:,1])\n",
        "ax.set_title(\"output bounds using IBP\")\n",
        "ax.set_xlabel(\"Output Dim 0\")\n",
        "ax.set_ylabel(\"Output Dim 1\")"
      ],
      "metadata": {
        "id": "-wDZnNO5aceR",
        "outputId": "047ecdcc-c845-45ea-a121-9d86359bfcd9",
        "colab": {
          "base_uri": "https://localhost:8080/",
          "height": 489
        }
      },
      "execution_count": 8,
      "outputs": [
        {
          "output_type": "execute_result",
          "data": {
            "text/plain": [
              "Text(0, 0.5, 'Output Dim 1')"
            ]
          },
          "metadata": {},
          "execution_count": 8
        },
        {
          "output_type": "display_data",
          "data": {
            "text/plain": [
              "<Figure size 640x480 with 1 Axes>"
            ],
            "image/png": "[encoded data removed]"
          },
          "metadata": {}
        }
      ]
    },
    {
      "cell_type": "markdown",
      "source": [
        "# Problem 3: Linear Program (LP)"
      ],
      "metadata": {
        "id": "1lNkJ9q7FN02"
      }
    },
    {
      "cell_type": "markdown",
      "source": [
        "Since IBP's bounds are usually too loose to say something useful about the NN's output set, you will now implement an LP-based verification algorithm that should provide much tighter bounds while remaining computationally reasonable.\n",
        "\n",
        "You will set up an LP (e.g., using `cvxpy` to set up variables, constraints, and objectives corresponding to the NN verification problem) for each side of the rectangle (i.e., min & max per output dimension, which can be done by simply changing the objective). To turn the ReLU constraints into linear equality/inequality constraints, you can check which neurons are \"active\", \"inactive\", or \"uncertain\" and add the corresponding relaxed constraints. To know which neurons belong to which category, you will need to acquire intermediate bounds -- there are lots of ways to do this!"
      ],
      "metadata": {
        "id": "VMPPb9KjAZfu"
      }
    },
    {
      "cell_type": "code",
      "source": [
        "def verify_lp(nnet_filename: str, input_range: np.ndarray) -> np.ndarray:\n",
        "\n",
        "  # TODO: implement this!\n",
        "\n",
        "  # Load the NNet file and pass a nominal input to get the class logits\n",
        "  model = nnet_to_pytorch(nnet_filename)\n",
        "  model.eval()\n",
        "\n",
        "  Ws, bs = model_to_weights_and_biases(model)\n",
        "\n",
        "  #input bounds\n",
        "  l_in = input_range[:,0]\n",
        "  u_in = input_range[:,1]\n",
        "\n",
        "  # Variables\n",
        "  x = cp.Variable(4)  # input\n",
        "  constraints = [x >= l_in, x <= u_in]  # input box constraints\n",
        "\n",
        "  y_prev = x\n",
        "  relu_outputs = []   # keep y vars for hidden layers\n",
        "  a_vars = []         # binary vars for each layer\n",
        "  bounds = []         # store (l,u) per layer\n",
        "\n",
        "  for layer_idx in range(len(Ws)-1):   # 3 hidden layers with ReLU\n",
        "      W, b = Ws[layer_idx], bs[layer_idx]\n",
        "\n",
        "      # I split the negative weights W.clip(min=0) and poistive weights W.clip(max=0)\n",
        "      # to compute the \"wost-case\" pre-activation bounds\n",
        "      l_z = W.clip(min=0) @ l_in + W.clip(max=0) @ u_in + b\n",
        "      u_z = W.clip(min=0) @ u_in + W.clip(max=0) @ l_in + b\n",
        "      bounds.append((l_z, u_z))\n",
        "\n",
        "      # Variables\n",
        "      z = W @ y_prev + b\n",
        "      y = cp.Variable(W.shape[0])\n",
        "      a = cp.Variable(W.shape[0], boolean=True) #binary var\n",
        "\n",
        "      # Add ReLU MILP constraints Check for active, inactive, uncertain\n",
        "      for j in range(W.shape[0]):\n",
        "          l_j, u_j = l_z[j], u_z[j]\n",
        "          constraints += [\n",
        "              y[j] <= z[j] - l_j*(1 - a[j]),\n",
        "              y[j] >= z[j],\n",
        "              y[j] <= u_j*a[j],\n",
        "              y[j] >= 0\n",
        "          ]\n",
        "\n",
        "      relu_outputs.append(y)\n",
        "      a_vars.append(a)\n",
        "\n",
        "      # Update bounds for next layer\n",
        "      l_in, u_in = np.maximum(0, l_z), np.maximum(0, u_z)\n",
        "      y_prev = y\n",
        "\n",
        "  # last layer without Relu\n",
        "  f_out = Ws[-1] @ y_prev + bs[-1]\n",
        "\n",
        "\n",
        "  #FINd tightest bound for output\n",
        "  output_range = []\n",
        "\n",
        "  #output Dim 1\n",
        "  c = np.array([1, 0])  # margin vector\n",
        "  objective = cp.Minimize(c @ f_out)\n",
        "  prob = cp.Problem(objective, constraints)\n",
        "  prob.solve(verbose=False)\n",
        "  output_range.append(f_out.value[0])\n",
        "\n",
        "  c = np.array([1, 0])  # margin vector\n",
        "  objective = cp.Maximize(c @ f_out)\n",
        "  prob = cp.Problem(objective, constraints)\n",
        "  prob.solve(verbose=False)\n",
        "  output_range.append(f_out.value[0])\n",
        "\n",
        "  #output Dim 2\n",
        "  c = np.array([0, 1])  # margin vector\n",
        "  objective = cp.Minimize(c @ f_out)\n",
        "  prob = cp.Problem(objective, constraints)\n",
        "  prob.solve(verbose=False)\n",
        "  output_range.append(f_out.value[1])\n",
        "\n",
        "  c = np.array([0, 1])  # margin vector\n",
        "  objective = cp.Maximize(c @ f_out)\n",
        "  prob = cp.Problem(objective, constraints)\n",
        "  prob.solve(verbose=False)\n",
        "  output_range.append(f_out.value[1])\n",
        "\n",
        "\n",
        "  return output_range\n",
        "\n",
        "output_range_lp = verify_lp(nnet_filename, input_range)\n",
        "print(f\"{output_range_lp=}\")"
      ],
      "metadata": {
        "id": "XsMaoa6aFXIa",
        "colab": {
          "base_uri": "https://localhost:8080/"
        },
        "outputId": "88ed7e4d-4ac1-42ef-de84-0dedea9fc59e"
      },
      "execution_count": 9,
      "outputs": [
        {
          "output_type": "stream",
          "name": "stdout",
          "text": [
            "output_range_lp=[11.166060961949457, 16.436482699165452, -4.379835748243782, -1.0875090467602182]\n"
          ]
        }
      ]
    },
    {
      "cell_type": "code",
      "source": [
        "import matplotlib.pyplot as plt\n",
        "from matplotlib.patches import Rectangle\n",
        "\n",
        "output0_range  = np.array(output_range_lp[0:2])\n",
        "output1_range  = np.array(output_range_lp[2:4])\n",
        "\n",
        "fig, ax = plt.subplots()\n",
        "\n",
        "width  = output0_range[1] - output0_range[0]\n",
        "height = output1_range[1] - output1_range[0]\n",
        "r = Rectangle((output0_range[0], output1_range[0]), width, height, fill=False, edgecolor='red')\n",
        "ax.add_patch(r)\n",
        "ax.scatter(output_samples[:,0], output_samples[:,1])\n",
        "ax.set_title(\"output bounds using MILP formulation\")\n",
        "ax.set_xlabel(\"Output Dim 0\")\n",
        "ax.set_ylabel(\"Output Dim 1\")"
      ],
      "metadata": {
        "id": "Urm-SzJVZTaD",
        "outputId": "4580b558-2fb7-44c4-e1f7-5661b6ca0b94",
        "colab": {
          "base_uri": "https://localhost:8080/",
          "height": 489
        }
      },
      "execution_count": 10,
      "outputs": [
        {
          "output_type": "execute_result",
          "data": {
            "text/plain": [
              "Text(0, 0.5, 'Output Dim 1')"
            ]
          },
          "metadata": {},
          "execution_count": 10
        },
        {
          "output_type": "display_data",
          "data": {
            "text/plain": [
              "<Figure size 640x480 with 1 Axes>"
            ],
            "image/png": "[encoded data removed]"
          },
          "metadata": {}
        }
      ]
    },
    {
      "cell_type": "markdown",
      "source": [
        "# Problem 4: Verify Classifier Robustness"
      ],
      "metadata": {
        "id": "LKmmrX0Guiep"
      }
    },
    {
      "cell_type": "markdown",
      "source": [
        "So far, you have written verification algorithms that provide upper and lower bounds on each output of the NN. Here, you will slightly modify your LP verifier so that it verifies the *robustness* of a *classifier* (i.e., prove that the classifier predicts the same class for every input within some range).\n",
        "\n",
        "If the verification algorithm is able to prove robustness, you should return `VerifierResults.Robust`. If the verification algorithm is unable to prove robustness, you should return `VerifierResults.Unsure` (remember that this doesn't necessarily mean the classifier isn't robust, just that our algorithm failed to find a proof). I also added a `VerifierResults.Timeout` option, because you will often see this in real verification algorithms, but you do not need to use this here.\n",
        "\n",
        "To start, you can pretend the cartpole controller was a classifier and try to see how large of an epsilon you can specify until you can't verify the robustness anymore.\n",
        "\n",
        "Then, you can load an MNIST classifier (code below) and try to see how large of an epsilon for which you can still verify robustness around a nominal image. Since the MNIST classifier is a way bigger NN, there will be some impact on the runtime of your LP.\n",
        "\n",
        "**Deliverables:**\n",
        "\n",
        "- Implement `verify_classification_robustness_lp`\n",
        "- Plot and/or briefly describe your findings w.r.t. robustness verification as you increase epsilon for the cartpole controller\n",
        "- Plot and/or briefly describe your findings w.r.t. robustness verification as you increase epsilon for the MNIST classifier"
      ],
      "metadata": {
        "id": "20SXabwqAfEZ"
      }
    },
    {
      "cell_type": "code",
      "source": [
        "class VerifierResults(Enum):\n",
        "  Robust = 0\n",
        "  Unsure = 1\n",
        "  Timeout = 2\n",
        "\n",
        "def verify_classification_robustness_lp(nnet_filename: str, input_range: np.ndarray) -> int:\n",
        "\n",
        "  import cvxpy as cp\n",
        "  import numpy as np\n",
        "\n",
        "  # Load network as before\n",
        "  model = nnet_to_pytorch(nnet_filename)\n",
        "  model.eval()\n",
        "  Ws, bs = model_to_weights_and_biases(model)\n",
        "\n",
        "  # For nominal input, find predicted class\n",
        "  nominal_input = np.mean(input_range, axis=1)  # center of the box\n",
        "  with torch.no_grad():\n",
        "      nominal_logits = model(torch.tensor(nominal_input, dtype=torch.float32))\n",
        "  k_star = int(torch.argmax(nominal_logits))  # predicted class\n",
        "\n",
        "  # MILP encoding\n",
        "  l_in = input_range[:, 0]\n",
        "  u_in = input_range[:, 1]\n",
        "\n",
        "  x = cp.Variable(4)\n",
        "  constraints = [x >= l_in, x <= u_in]\n",
        "\n",
        "  y_prev = x\n",
        "  for layer_idx in range(len(Ws) - 1):\n",
        "      W, b = Ws[layer_idx], bs[layer_idx]\n",
        "\n",
        "      l_z = W.clip(min=0) @ l_in + W.clip(max=0) @ u_in + b\n",
        "      u_z = W.clip(min=0) @ u_in + W.clip(max=0) @ l_in + b\n",
        "\n",
        "      z = W @ y_prev + b\n",
        "      y = cp.Variable(W.shape[0])\n",
        "      a = cp.Variable(W.shape[0], boolean=True)\n",
        "\n",
        "      for j in range(W.shape[0]):\n",
        "          l_j, u_j = l_z[j], u_z[j]\n",
        "          constraints += [\n",
        "              y[j] <= z[j] - l_j*(1 - a[j]),\n",
        "              y[j] >= z[j],\n",
        "              y[j] <= u_j*a[j],\n",
        "              y[j] >= 0\n",
        "          ] #from class LP relaxation\n",
        "\n",
        "      l_in, u_in = np.maximum(0, l_z), np.maximum(0, u_z)\n",
        "      y_prev = y\n",
        "\n",
        "  f_out = Ws[-1] @ y_prev + bs[-1]\n",
        "\n",
        "  # Verify classification robustness: for every other class i\n",
        "  n_classes = 2 #Left or Right\n",
        "  for i in range(n_classes):\n",
        "      if i == k_star:\n",
        "          continue\n",
        "\n",
        "      # Minimizing margin f_kstar - f_i over the input box\n",
        "      c = np.zeros(n_classes)\n",
        "      c[k_star] = 1\n",
        "      c[i] = -1\n",
        "      objective = cp.Minimize(c @ f_out)\n",
        "      prob = cp.Problem(objective, constraints)\n",
        "      val = prob.solve(verbose=False)\n",
        "\n",
        "      if val is None or val <= 0:\n",
        "          # MILP can't prove margin > 0\n",
        "          return VerifierResults.Unsure\n",
        "\n",
        "  return VerifierResults.Robust\n",
        "\n",
        "verifier_result = verify_classification_robustness_lp(nnet_filename, input_range)\n",
        "print(verifier_result)"
      ],
      "metadata": {
        "id": "y_vSMbXcvYWm",
        "outputId": "fbd9a216-c15f-4fab-f464-e6dcc8f0af54",
        "colab": {
          "base_uri": "https://localhost:8080/"
        }
      },
      "execution_count": 11,
      "outputs": [
        {
          "output_type": "stream",
          "name": "stdout",
          "text": [
            "VerifierResults.Robust\n"
          ]
        }
      ]
    },
    {
      "cell_type": "markdown",
      "source": [
        "Plot robustness verification as you increase epsilon for the cartpole controller"
      ],
      "metadata": {
        "id": "VHU56a5CnCrq"
      }
    },
    {
      "cell_type": "code",
      "source": [
        "import matplotlib.pyplot as plt\n",
        "\n",
        "nnet_filename = \"/content/cartpole_nnet-1.nnet\"\n",
        "nominal_input = torch.Tensor([[0., 0.1, 0.2, 0.3]]) # these 4 values correspond to the 4 states in cartpole\n",
        "dims = 4\n",
        "epsilons = np.linspace(0.0, 1, 15)\n",
        "\n",
        "\n",
        "results = []\n",
        "for eps in epsilons:\n",
        "    if isinstance(eps, float):\n",
        "        eps_vec = eps * np.ones((dims,))\n",
        "    else:\n",
        "        eps_vec = eps\n",
        "\n",
        "    input_range = nominal_and_epsilon_to_range(nominal_input, eps_vec)\n",
        "    result = verify_classification_robustness_lp(nnet_filename, input_range)\n",
        "    results.append(result.value)  # use enum value (0 = Robust, 1 = Unsure)\n",
        "    print(f\"epsilon={eps:.4f}, result={result.name}\")\n",
        "\n",
        "# Plot\n",
        "plt.figure(figsize=(7, 4))\n",
        "plt.plot(epsilons, results, marker='o', color='black')\n",
        "plt.yticks([0, 1], [\"Robust\", \"Unsure\"])\n",
        "plt.xlabel(\"Epsilon (L-infinity perturbation)\")\n",
        "plt.ylabel(\"Verification Result\")\n",
        "plt.title(f\"Robustness Verification vs Epsilon\\n{\"CartPole Classifier\"}\")\n",
        "plt.grid(True)\n",
        "plt.ylim(-0.2, 1.2)\n",
        "plt.show()\n"
      ],
      "metadata": {
        "id": "i_GLJLTem2ra",
        "outputId": "060d044f-5feb-4f04-8773-24f79b321d70",
        "colab": {
          "base_uri": "https://localhost:8080/",
          "height": 691
        }
      },
      "execution_count": 12,
      "outputs": [
        {
          "output_type": "stream",
          "name": "stdout",
          "text": [
            "epsilon=0.0000, result=Robust\n",
            "epsilon=0.0714, result=Robust\n",
            "epsilon=0.1429, result=Robust\n",
            "epsilon=0.2143, result=Robust\n",
            "epsilon=0.2857, result=Robust\n",
            "epsilon=0.3571, result=Robust\n",
            "epsilon=0.4286, result=Robust\n",
            "epsilon=0.5000, result=Robust\n",
            "epsilon=0.5714, result=Robust\n",
            "epsilon=0.6429, result=Unsure\n",
            "epsilon=0.7143, result=Unsure\n",
            "epsilon=0.7857, result=Unsure\n",
            "epsilon=0.8571, result=Unsure\n",
            "epsilon=0.9286, result=Unsure\n",
            "epsilon=1.0000, result=Unsure\n"
          ]
        },
        {
          "output_type": "display_data",
          "data": {
            "text/plain": [
              "<Figure size 700x400 with 1 Axes>"
            ],
            "image/png": "[encoded data removed]"
          },
          "metadata": {}
        }
      ]
    },
    {
      "cell_type": "markdown",
      "source": [
        "***Discussion***\n",
        "\n",
        "For cartpole example, the classifer tends to predict incorrect command output when the perturbation is over 0.6, which is reasonable. This occurs because the nominal inputs\n",
        "[position,velocity,angle,angular velocity] (i.e., the CartPole dynamics) are highly sensitive to perturbations. The NN model is trying to output control commands (LEFT/RIGHT) to balance the pole, and these commands change rapidly with variations in the system's attitude."
      ],
      "metadata": {
        "id": "ZnSUhgswj5n0"
      }
    },
    {
      "cell_type": "markdown",
      "source": [
        "Load a NN classifier for MNIST, then query the model at a particular image:"
      ],
      "metadata": {
        "id": "OmTWXVJ65a1C"
      }
    },
    {
      "cell_type": "code",
      "source": [
        "from enum import Enum\n",
        "import torch\n",
        "import cvxpy as cp\n",
        "import numpy as np\n",
        "\n",
        "class VerifierResults(Enum):\n",
        "    Robust = 0\n",
        "    Unsure = 1\n",
        "    Timeout = 2\n",
        "\n",
        "def verify_mnist_robustness_lp(nnet_filename: str, input_range: np.ndarray) -> VerifierResults:\n",
        "    # Load NN model and weights\n",
        "    model = nnet_to_pytorch(nnet_filename)\n",
        "    model.eval()\n",
        "    Ws, bs = model_to_weights_and_biases(model)\n",
        "\n",
        "    # Use midpoint to get nominal input\n",
        "    nominal_input = np.mean(input_range, axis=1)\n",
        "    with torch.no_grad():\n",
        "        nominal_output = model(torch.tensor(nominal_input, dtype=torch.float32))\n",
        "    nominal_class = int(torch.argmax(nominal_output))\n",
        "\n",
        "    # MILP variables\n",
        "    x = cp.Variable(784)\n",
        "    l_in = input_range[:, 0]\n",
        "    u_in = input_range[:, 1]\n",
        "    constraints = [x >= l_in, x <= u_in]\n",
        "\n",
        "    y_prev = x\n",
        "    for i in range(len(Ws) - 1):  # All hidden layers with ReLU\n",
        "        W, b = Ws[i], bs[i]\n",
        "        l_z = W.clip(min=0) @ l_in + W.clip(max=0) @ u_in + b\n",
        "        u_z = W.clip(min=0) @ u_in + W.clip(max=0) @ l_in + b\n",
        "\n",
        "        z = W @ y_prev + b\n",
        "        y = cp.Variable(W.shape[0])\n",
        "        a = cp.Variable(W.shape[0], boolean=True)\n",
        "\n",
        "        for j in range(W.shape[0]):\n",
        "            l_j, u_j = l_z[j], u_z[j]\n",
        "            constraints += [\n",
        "                y[j] <= z[j] - l_j * (1 - a[j]),\n",
        "                y[j] >= z[j],\n",
        "                y[j] <= u_j * a[j],\n",
        "                y[j] >= 0\n",
        "            ]\n",
        "\n",
        "        l_in, u_in = np.maximum(0, l_z), np.maximum(0, u_z)\n",
        "        y_prev = y\n",
        "\n",
        "    # Final layer\n",
        "    f_out = Ws[-1] @ y_prev + bs[-1]\n",
        "    n_classes = f_out.shape[0]\n",
        "\n",
        "    # For all i ≠ nominal class, minimize margin f_nominal - f_i\n",
        "    for i in range(n_classes):\n",
        "        if i == nominal_class:\n",
        "            continue\n",
        "\n",
        "        c = np.zeros(n_classes)\n",
        "        c[nominal_class] = 1\n",
        "        c[i] = -1\n",
        "        objective = cp.Minimize(c @ f_out)\n",
        "        prob = cp.Problem(objective, constraints)\n",
        "        val = prob.solve(verbose=False)\n",
        "\n",
        "        if val is None or val <= 0:\n",
        "            return VerifierResults.Unsure\n",
        "\n",
        "    return VerifierResults.Robust\n"
      ],
      "metadata": {
        "id": "ACerdIxepVLV"
      },
      "execution_count": 13,
      "outputs": []
    },
    {
      "cell_type": "code",
      "source": [
        "print(\"MNIST Classifier\")\n",
        "\n",
        "# Load MNIST sample\n",
        "nnet_filename_mnist = \"/content/mnist1.nnet\"\n",
        "from tensorflow.keras.datasets import mnist\n",
        "(x_train, y_train), (x_test, y_test) = mnist.load_data()\n",
        "\n",
        "img_index = 2\n",
        "nominal_input_mnist = torch.Tensor(x_train[img_index].flatten())\n",
        "model_mnist = nnet_to_pytorch(nnet_filename_mnist)\n",
        "Ws_mnist, bs_mnist = model_to_weights_and_biases(model_mnist)\n",
        "nominal_output = model_mnist(nominal_input_mnist)\n",
        "nominal_class = nominal_output.argmax()\n",
        "print(f\"{nominal_output=}\")\n",
        "print(f\"Predicted Class: {nominal_class}, True Class: {y_train[img_index]}\")\n",
        "\n",
        "# Set input range with ε = 2\n",
        "epsilon = 2.0\n",
        "input_range_mnist = nominal_and_epsilon_to_range(nominal_input_mnist.numpy(), epsilon)\n",
        "print(f\"{input_range_mnist.shape=}\")\n",
        "\n",
        "# Run robustness check\n",
        "result = verify_mnist_robustness_lp(nnet_filename_mnist, input_range_mnist)\n",
        "print(\"Robustness result:\", result.name)\n"
      ],
      "metadata": {
        "id": "LlJYRiLv5fdU",
        "outputId": "847b7352-cf94-4fc3-eb55-e71275c523d6",
        "colab": {
          "base_uri": "https://localhost:8080/"
        }
      },
      "execution_count": 14,
      "outputs": [
        {
          "output_type": "stream",
          "name": "stdout",
          "text": [
            "MNIST Classifier\n",
            "nominal_output=tensor([ -130.8385, -1543.3896,   131.6747,   348.4880,   987.1154, -1114.0826,\n",
            "         -638.6053,   216.2303,   -85.5050,   418.8903],\n",
            "       grad_fn=<ViewBackward0>)\n",
            "Predicted Class: 4, True Class: 4\n",
            "input_range_mnist.shape=(784, 2)\n",
            "Robustness result: Robust\n"
          ]
        }
      ]
    },
    {
      "cell_type": "code",
      "source": [
        "epsilons = np.linspace(0.0, 5, 15)\n",
        "\n",
        "results = []\n",
        "for eps in epsilons:\n",
        "    if isinstance(eps, float):\n",
        "        eps_vec = eps * np.ones((784,))\n",
        "    else:\n",
        "        eps_vec = eps\n",
        "\n",
        "    input_range_mnist = nominal_and_epsilon_to_range(nominal_input_mnist.numpy(), eps_vec)\n",
        "    result = verify_mnist_robustness_lp(nnet_filename_mnist, input_range_mnist)\n",
        "    results.append(result.value)  # use enum value (0 = Robust, 1 = Unsure)\n",
        "    print(f\"epsilon={eps:.4f}, result={result.name}\")\n",
        "\n",
        "# Plot\n",
        "plt.figure(figsize=(7, 4))\n",
        "plt.plot(epsilons, results, marker='o', color='black')\n",
        "plt.yticks([0, 1], [\"Robust\", \"Unsure\"])\n",
        "plt.xlabel(\"Epsilon (L-infinity perturbation)\")\n",
        "plt.ylabel(\"Verification Result\")\n",
        "plt.title(f\"Robustness Verification vs Epsilon\\n{\"MNIST Classifier\"}\")\n",
        "plt.grid(True)\n",
        "plt.ylim(-0.2, 1.2)\n",
        "plt.show()"
      ],
      "metadata": {
        "colab": {
          "base_uri": "https://localhost:8080/",
          "height": 691
        },
        "id": "vO-Z10yfXoDa",
        "outputId": "cd2a68ae-9f84-4c9e-cd32-d275b4c47906"
      },
      "execution_count": 15,
      "outputs": [
        {
          "output_type": "stream",
          "name": "stdout",
          "text": [
            "epsilon=0.0000, result=Robust\n",
            "epsilon=0.3571, result=Robust\n",
            "epsilon=0.7143, result=Robust\n",
            "epsilon=1.0714, result=Robust\n",
            "epsilon=1.4286, result=Robust\n",
            "epsilon=1.7857, result=Robust\n",
            "epsilon=2.1429, result=Robust\n",
            "epsilon=2.5000, result=Robust\n",
            "epsilon=2.8571, result=Robust\n",
            "epsilon=3.2143, result=Robust\n",
            "epsilon=3.5714, result=Robust\n",
            "epsilon=3.9286, result=Robust\n",
            "epsilon=4.2857, result=Unsure\n",
            "epsilon=4.6429, result=Unsure\n",
            "epsilon=5.0000, result=Unsure\n"
          ]
        },
        {
          "output_type": "display_data",
          "data": {
            "text/plain": [
              "<Figure size 700x400 with 1 Axes>"
            ],
            "image/png": "[encoded data removed]"
          },
          "metadata": {}
        }
      ]
    },
    {
      "cell_type": "markdown",
      "source": [
        "***Discussion***\n",
        "\n",
        "For the MNIST verification problem, the underlying neural network model can withstand larger perturbations in the input compared to the CartPole model. The sensitivity to perturbations differs fundamentally between the two models: perturbations of MNIST image pixels do not depend on real-world physical dynamics as in CartPole. Furthermore, the MNIST network has a much higher input dimensionality with richer correlations among adjacent pixels, which allows it to tolerate larger perturbations before yielding “unsure” verification results."
      ],
      "metadata": {
        "id": "IUWc7GhXlZt4"
      }
    },
    {
      "cell_type": "markdown",
      "source": [
        "# Problem 5: Explore the `jax_verify` library for verification"
      ],
      "metadata": {
        "id": "O6LR1io6Bpht"
      }
    },
    {
      "cell_type": "markdown",
      "source": [
        "There are a few excellent open-source libraries for NN verification. For example, `jax_verify` has implementations of IBP, CROWN, and many other algorithms. These methods can handle a broader class of NNs than just the ReLU NNs you worked with above, so they may be useful tools to leverage in your research or projects.\n",
        "\n",
        "A big upside of `jax_verify` is that it supports JIT compilation, which can speed up verification algorithms by 10-100x (you don't need to set up JIT compilation for this assignment, but you're encouraged to try that out if you're curious).\n",
        "\n",
        "Note that the `jax_verify` that is available by default in PyPi is an old version from 2020 that has a slightly different API - installing a more recent version is recommended as we do below."
      ],
      "metadata": {
        "id": "RWh1SWEEAkND"
      }
    },
    {
      "cell_type": "code",
      "source": [
        "# Install my fork of jax_verify, which fixes a few deprecation errors in the mainline repo\n",
        "!pip install git+https://gitlab.com/neu-autonomy/certifiable-learning/jax_verify@mainline_repo"
      ],
      "metadata": {
        "id": "7ic1irPeBiZZ",
        "colab": {
          "base_uri": "https://localhost:8080/"
        },
        "outputId": "037db0ed-9b2c-47da-90e2-806883d7d6c2"
      },
      "execution_count": 16,
      "outputs": [
        {
          "output_type": "stream",
          "name": "stdout",
          "text": [
            "Collecting git+https://gitlab.com/neu-autonomy/certifiable-learning/jax_verify@mainline_repo\n",
            "  Cloning https://gitlab.com/neu-autonomy/certifiable-learning/jax_verify (to revision mainline_repo) to /tmp/pip-req-build-2hfk9_th\n",
            "  Running command git clone --filter=blob:none --quiet https://gitlab.com/neu-autonomy/certifiable-learning/jax_verify /tmp/pip-req-build-2hfk9_th\n",
            "  warning: redirecting to https://gitlab.com/neu-autonomy/certifiable-learning/jax_verify.git/\n",
            "  Running command git checkout -b mainline_repo --track origin/mainline_repo\n",
            "  warning: redirecting to https://gitlab.com/neu-autonomy/certifiable-learning/jax_verify.git/\n",
            "  Switched to a new branch 'mainline_repo'\n",
            "  Branch 'mainline_repo' set up to track remote branch 'mainline_repo' from 'origin'.\n",
            "  Resolved https://gitlab.com/neu-autonomy/certifiable-learning/jax_verify to commit 7cc6699a735023a905e6557475bc24354d96f525\n",
            "  Preparing metadata (setup.py) ... \u001b[?25l\u001b[?25hdone\n",
            "Collecting einshape@ git+https://github.com/deepmind/einshape.git (from jax_verify==1.0)\n",
            "  Cloning https://github.com/deepmind/einshape.git to /tmp/pip-install-_oskhx0o/einshape_dabecbbeefdd4fbabca0b16460c48264\n",
            "  Running command git clone --filter=blob:none --quiet https://github.com/deepmind/einshape.git /tmp/pip-install-_oskhx0o/einshape_dabecbbeefdd4fbabca0b16460c48264\n",
            "  Resolved https://github.com/deepmind/einshape.git to commit d91ab136da3d97f4ba2b4582531cdc2dfd9fab0a\n",
            "  Preparing metadata (setup.py) ... \u001b[?25l\u001b[?25hdone\n",
            "Requirement already satisfied: absl-py in /usr/local/lib/python3.12/dist-packages (from jax_verify==1.0) (1.4.0)\n",
            "Requirement already satisfied: cvxpy in /usr/local/lib/python3.12/dist-packages (from jax_verify==1.0) (1.6.7)\n",
            "Requirement already satisfied: dm-tree in /usr/local/lib/python3.12/dist-packages (from jax_verify==1.0) (0.1.9)\n",
            "Requirement already satisfied: jax>=0.4.6 in /usr/local/lib/python3.12/dist-packages (from jax_verify==1.0) (0.5.3)\n",
            "Requirement already satisfied: jaxlib>=0.4.6 in /usr/local/lib/python3.12/dist-packages (from jax_verify==1.0) (0.5.3)\n",
            "Requirement already satisfied: numpy in /usr/local/lib/python3.12/dist-packages (from jax_verify==1.0) (1.26.4)\n",
            "Requirement already satisfied: optax in /usr/local/lib/python3.12/dist-packages (from jax_verify==1.0) (0.2.6)\n",
            "Requirement already satisfied: dm-haiku in /usr/local/lib/python3.12/dist-packages (from jax_verify==1.0) (0.0.15)\n",
            "Requirement already satisfied: ml_collections in /usr/local/lib/python3.12/dist-packages (from jax_verify==1.0) (1.1.0)\n",
            "Requirement already satisfied: ml_dtypes>=0.4.0 in /usr/local/lib/python3.12/dist-packages (from jax>=0.4.6->jax_verify==1.0) (0.5.3)\n",
            "Requirement already satisfied: opt_einsum in /usr/local/lib/python3.12/dist-packages (from jax>=0.4.6->jax_verify==1.0) (3.4.0)\n",
            "Requirement already satisfied: scipy>=1.11.1 in /usr/local/lib/python3.12/dist-packages (from jax>=0.4.6->jax_verify==1.0) (1.16.2)\n",
            "Requirement already satisfied: osqp>=0.6.2 in /usr/local/lib/python3.12/dist-packages (from cvxpy->jax_verify==1.0) (1.0.4)\n",
            "Requirement already satisfied: clarabel>=0.5.0 in /usr/local/lib/python3.12/dist-packages (from cvxpy->jax_verify==1.0) (0.11.1)\n",
            "Requirement already satisfied: scs>=3.2.4.post1 in /usr/local/lib/python3.12/dist-packages (from cvxpy->jax_verify==1.0) (3.2.8)\n",
            "Requirement already satisfied: jmp>=0.0.2 in /usr/local/lib/python3.12/dist-packages (from dm-haiku->jax_verify==1.0) (0.0.4)\n",
            "Requirement already satisfied: tabulate>=0.8.9 in /usr/local/lib/python3.12/dist-packages (from dm-haiku->jax_verify==1.0) (0.9.0)\n",
            "Requirement already satisfied: attrs>=18.2.0 in /usr/local/lib/python3.12/dist-packages (from dm-tree->jax_verify==1.0) (25.3.0)\n",
            "Requirement already satisfied: wrapt>=1.11.2 in /usr/local/lib/python3.12/dist-packages (from dm-tree->jax_verify==1.0) (1.17.3)\n",
            "Requirement already satisfied: PyYAML in /usr/local/lib/python3.12/dist-packages (from ml_collections->jax_verify==1.0) (6.0.3)\n",
            "Requirement already satisfied: chex>=0.1.87 in /usr/local/lib/python3.12/dist-packages (from optax->jax_verify==1.0) (0.1.90)\n",
            "Requirement already satisfied: typing_extensions>=4.2.0 in /usr/local/lib/python3.12/dist-packages (from chex>=0.1.87->optax->jax_verify==1.0) (4.15.0)\n",
            "Requirement already satisfied: setuptools in /usr/local/lib/python3.12/dist-packages (from chex>=0.1.87->optax->jax_verify==1.0) (75.2.0)\n",
            "Requirement already satisfied: toolz>=0.9.0 in /usr/local/lib/python3.12/dist-packages (from chex>=0.1.87->optax->jax_verify==1.0) (0.12.1)\n",
            "Requirement already satisfied: cffi in /usr/local/lib/python3.12/dist-packages (from clarabel>=0.5.0->cvxpy->jax_verify==1.0) (2.0.0)\n",
            "Requirement already satisfied: jinja2 in /usr/local/lib/python3.12/dist-packages (from osqp>=0.6.2->cvxpy->jax_verify==1.0) (3.1.6)\n",
            "Requirement already satisfied: joblib in /usr/local/lib/python3.12/dist-packages (from osqp>=0.6.2->cvxpy->jax_verify==1.0) (1.5.2)\n",
            "Requirement already satisfied: pycparser in /usr/local/lib/python3.12/dist-packages (from cffi->clarabel>=0.5.0->cvxpy->jax_verify==1.0) (2.23)\n",
            "Requirement already satisfied: MarkupSafe>=2.0 in /usr/local/lib/python3.12/dist-packages (from jinja2->osqp>=0.6.2->cvxpy->jax_verify==1.0) (3.0.3)\n"
          ]
        }
      ]
    },
    {
      "cell_type": "code",
      "source": [
        "import jax.numpy as jnp\n",
        "import jax_verify\n",
        "import functools"
      ],
      "metadata": {
        "id": "XisKYJtrp1JX"
      },
      "execution_count": 17,
      "outputs": []
    },
    {
      "cell_type": "markdown",
      "source": [
        "Some utility methods that help set up the NN in jax:"
      ],
      "metadata": {
        "id": "NbNHanmT3il0"
      }
    },
    {
      "cell_type": "code",
      "source": [
        "def pytorch_model_to_jax(torch_model: torch.nn.Sequential):\n",
        "  params = []\n",
        "  act = None\n",
        "\n",
        "  # Extract params (weights, biases) from torch layers, to be used in\n",
        "  # jax.\n",
        "  # Note: This propagator assumes a feed-forward relu NN.\n",
        "  for m in torch_model.modules():\n",
        "    if isinstance(m, torch.nn.Sequential):\n",
        "      continue\n",
        "    elif isinstance(m, torch.nn.ReLU):\n",
        "      if act is None or act == \"relu\":\n",
        "        act = \"relu\"\n",
        "    elif isinstance(m, torch.nn.Linear):\n",
        "      w = m.weight.data.numpy().T\n",
        "      b = m.bias.data.numpy()\n",
        "      params.append((w, b))\n",
        "  return functools.partial(relu_nn, params)\n",
        "\n",
        "def relu_nn(params, inputs):\n",
        "  for W, b in params[:-1]:\n",
        "    outputs = jnp.dot(inputs, W) + b\n",
        "    inputs = jnp.maximum(outputs, 0)\n",
        "  W, b = params[-1]\n",
        "  return jnp.dot(inputs, W) + b\n",
        "\n",
        "def jax_interval_to_np_range(interval: jax_verify.IntervalBound) -> np.ndarray:\n",
        "  return np.vstack([interval.lower, interval.upper]).T\n",
        "\n",
        "def np_range_to_jax_interval(input_range: np.ndarray) -> jax_verify.IntervalBound:\n",
        "  return jax_verify.IntervalBound(input_range[:, 0], input_range[:, 1])\n",
        "\n",
        "jax_model = pytorch_model_to_jax(model)"
      ],
      "metadata": {
        "id": "UAg7ZvB5o-vs"
      },
      "execution_count": 18,
      "outputs": []
    },
    {
      "cell_type": "markdown",
      "source": [
        "An example of using jax_verify's implementation of IBP on our cartpole control NN"
      ],
      "metadata": {
        "id": "dhi8nfG53v8V"
      }
    },
    {
      "cell_type": "code",
      "source": [
        "# Example of a fwd pass on the NN using jax\n",
        "nominal_output_jax = jax_model(jnp.array(nominal_input))\n",
        "\n",
        "#REDFINE INPUT RANGE, GIVEN IN THE BEGINNING\n",
        "epsilon = 0.1 # epsilon can be a scalar or a vec w/ same shape as nominal_input\n",
        "input_range = nominal_and_epsilon_to_range(nominal_input, epsilon)\n",
        "print(f\"{input_range=}\")\n",
        "\n",
        "# Example of computing bounds using IBP as implemented by jax_verify\n",
        "input_bounds = np_range_to_jax_interval(input_range)\n",
        "output_bounds_ibp_jax = jax_verify.interval_bound_propagation(\n",
        "    jax_model, input_bounds)\n",
        "output_range_ibp_jax = jax_interval_to_np_range(output_bounds_ibp_jax)\n",
        "print(f\"output bounds via IBP (jax_verify): \\n{output_range_ibp_jax}\")"
      ],
      "metadata": {
        "id": "V2YWoAyD3pur",
        "colab": {
          "base_uri": "https://localhost:8080/"
        },
        "outputId": "b5074cf0-6a46-4109-a049-63d57841dc28"
      },
      "execution_count": 19,
      "outputs": [
        {
          "output_type": "stream",
          "name": "stdout",
          "text": [
            "input_range=array([[-0.1       ,  0.1       ],\n",
            "       [ 0.        ,  0.2       ],\n",
            "       [ 0.1       ,  0.3       ],\n",
            "       [ 0.20000002,  0.4       ]], dtype=float32)\n",
            "output bounds via IBP (jax_verify): \n",
            "[[-25.607307  52.51912 ]\n",
            " [-32.457947  23.750446]]\n"
          ]
        }
      ]
    },
    {
      "cell_type": "code",
      "source": [
        "#Comparison for IBP\n",
        "print(f\"output bounds via IBP (jax_verify): \\n{output_range_ibp_jax}\")\n",
        "print(f\"output bounds via IBP (MY CODE): \\n{output_range_ibp}\")"
      ],
      "metadata": {
        "id": "whMjbubFb9sZ",
        "outputId": "3e12c7ae-7c76-440c-e8c0-da65e7acf754",
        "colab": {
          "base_uri": "https://localhost:8080/"
        }
      },
      "execution_count": 20,
      "outputs": [
        {
          "output_type": "stream",
          "name": "stdout",
          "text": [
            "output bounds via IBP (jax_verify): \n",
            "[[-25.607307  52.51912 ]\n",
            " [-32.457947  23.750446]]\n",
            "output bounds via IBP (MY CODE): \n",
            "[array([-25.6073 ,  52.51912], dtype=float32), array([-32.457947,  23.750446], dtype=float32)]\n"
          ]
        }
      ]
    },
    {
      "cell_type": "code",
      "source": [
        "import matplotlib.pyplot as plt\n",
        "from matplotlib.patches import Rectangle\n",
        "\n",
        "output0_range  = output_range_ibp_jax[0,:]\n",
        "output1_range  = output_range_ibp_jax[1,:]\n",
        "\n",
        "fig, ax = plt.subplots()\n",
        "\n",
        "width  = output0_range[1] - output0_range[0]\n",
        "height = output1_range[1] - output1_range[0]\n",
        "r = Rectangle((output0_range[0], output1_range[0]), width, height, fill=False, edgecolor='green')\n",
        "ax.add_patch(r)\n",
        "ax.scatter(output_samples[:,0], output_samples[:,1])\n",
        "ax.set_title(\"output bounds using IBP jax_verify\")\n",
        "ax.set_xlabel(\"Output Dim 0\")\n",
        "ax.set_ylabel(\"Output Dim 1\")"
      ],
      "metadata": {
        "id": "O2NH2cX5aom2",
        "outputId": "bfdb1c02-63bb-4f9c-e146-815a72c9230b",
        "colab": {
          "base_uri": "https://localhost:8080/",
          "height": 489
        }
      },
      "execution_count": 21,
      "outputs": [
        {
          "output_type": "execute_result",
          "data": {
            "text/plain": [
              "Text(0, 0.5, 'Output Dim 1')"
            ]
          },
          "metadata": {},
          "execution_count": 21
        },
        {
          "output_type": "display_data",
          "data": {
            "text/plain": [
              "<Figure size 640x480 with 1 Axes>"
            ],
            "image/png": "[encoded data removed]"
          },
          "metadata": {}
        }
      ]
    },
    {
      "cell_type": "markdown",
      "source": [
        "Does that output match the output of your IBP implementation?"
      ],
      "metadata": {
        "id": "Q6bl9cwNyHOD"
      }
    },
    {
      "cell_type": "markdown",
      "source": [
        "**ANSWER**\n",
        "\n",
        "Yes, the output bounds matches for my IBP formulation with or without jax_verify"
      ],
      "metadata": {
        "id": "L8nPxxaTanQY"
      }
    },
    {
      "cell_type": "markdown",
      "source": [
        "Now for your job: take a look at jax_verify's documentation to see how to use the backward CROWN verifier.\n",
        "\n",
        "**Deliverables:**\n",
        "\n",
        "- output bounds using backward CROWN, rather than IBP"
      ],
      "metadata": {
        "id": "dkY2_OOayXJ7"
      }
    },
    {
      "cell_type": "code",
      "source": [
        "#REDFINE INPUT RANGE, GIVEN IN THE BEGINNING\n",
        "epsilon = 0.1 # epsilon can be a scalar or a vec w/ same shape as nominal_input\n",
        "input_range = nominal_and_epsilon_to_range(nominal_input, epsilon)\n",
        "\n",
        "input_bounds = np_range_to_jax_interval(input_range)\n",
        "output_bounds_CROWN_jax = jax_verify.backward_crown_bound_propagation(\n",
        "    jax_model, input_bounds)\n",
        "output_bounds_CROWN_jax = jax_interval_to_np_range(output_bounds_CROWN_jax)\n",
        "\n",
        "print(f\"output bounds via CROWN (jax_verify): \\n{output_bounds_CROWN_jax}\")"
      ],
      "metadata": {
        "id": "GYsSp-XC0gcO",
        "colab": {
          "base_uri": "https://localhost:8080/"
        },
        "outputId": "71d6d62a-bc13-466d-d929-0c1c3a5f7b31"
      },
      "execution_count": 22,
      "outputs": [
        {
          "output_type": "stream",
          "name": "stdout",
          "text": [
            "output bounds via CROWN (jax_verify): \n",
            "[[10.74421    17.722937  ]\n",
            " [-4.760767   -0.22639573]]\n"
          ]
        }
      ]
    },
    {
      "cell_type": "code",
      "source": [
        "import matplotlib.pyplot as plt\n",
        "from matplotlib.patches import Rectangle\n",
        "\n",
        "output0_range  = output_bounds_CROWN_jax[0,:]\n",
        "output1_range  = output_bounds_CROWN_jax[1,:]\n",
        "\n",
        "fig, ax = plt.subplots()\n",
        "\n",
        "width  = output0_range[1] - output0_range[0]\n",
        "height = output1_range[1] - output1_range[0]\n",
        "r = Rectangle((output0_range[0], output1_range[0]), width, height, fill=False, edgecolor='magenta')\n",
        "ax.add_patch(r)\n",
        "ax.scatter(output_samples[:,0], output_samples[:,1])\n",
        "ax.set_title(\"output bounds using backward CROWN jax_verify\")\n",
        "ax.set_xlabel(\"Output Dim 0\")\n",
        "ax.set_ylabel(\"Output Dim 1\")"
      ],
      "metadata": {
        "id": "Yq9WYwsHc81x",
        "outputId": "624b4dff-c37a-4ae5-8334-f35edc7e15c8",
        "colab": {
          "base_uri": "https://localhost:8080/",
          "height": 489
        }
      },
      "execution_count": 23,
      "outputs": [
        {
          "output_type": "execute_result",
          "data": {
            "text/plain": [
              "Text(0, 0.5, 'Output Dim 1')"
            ]
          },
          "metadata": {},
          "execution_count": 23
        },
        {
          "output_type": "display_data",
          "data": {
            "text/plain": [
              "<Figure size 640x480 with 1 Axes>"
            ],
            "image/png": "[encoded data removed]"
          },
          "metadata": {}
        }
      ]
    },
    {
      "cell_type": "markdown",
      "source": [
        "# Problem 6: Explore the `auto-LiRPA` library for verification"
      ],
      "metadata": {
        "id": "y7SInFa3zGmz"
      }
    },
    {
      "cell_type": "markdown",
      "source": [
        "`auto-LiRPA` is a verification library based on PyTorch and one of the main developers was a Northeastern PhD student (Kaidi Xu)!\n",
        "\n",
        "Just like with the previous problem, the next cells show you how to install the package and run IBP, then we ask you to look into their documentation and run backward CROWN on the same problem.\n",
        "\n",
        "**Note:** I suggest doing this part last, because pip may try to downgrade the version of pytorch installed to satisfy requirements. You may also need to restart your kernel after the pip install. If you're on Colab and things seem messed up, you can always do `Runtime > Disconnect and delete runtime` (stronger than restarting the runtime, which doesn't reset to the default set of installed packages)."
      ],
      "metadata": {
        "id": "1Y6E6KwYAoNK"
      }
    },
    {
      "cell_type": "code",
      "source": [
        "!python -c \"import torch; print(torch.__version__)\"\n"
      ],
      "metadata": {
        "id": "1DrXImcKeUkD",
        "outputId": "748fa97a-19d4-47fc-9a58-0ff078721da5",
        "colab": {
          "base_uri": "https://localhost:8080/"
        }
      },
      "execution_count": 24,
      "outputs": [
        {
          "output_type": "stream",
          "name": "stdout",
          "text": [
            "2.3.1+cu121\n"
          ]
        }
      ]
    },
    {
      "cell_type": "code",
      "source": [
        "# !pip install auto-lirpa\n",
        "!pip install -U \"git+https://github.com/Verified-Intelligence/auto_LiRPA.git\""
      ],
      "metadata": {
        "id": "87SnKjZJ0i9Z",
        "colab": {
          "base_uri": "https://localhost:8080/"
        },
        "outputId": "c4a07a0b-640c-4be1-df80-8f8b9d8da43e"
      },
      "execution_count": 25,
      "outputs": [
        {
          "output_type": "stream",
          "name": "stdout",
          "text": [
            "Collecting git+https://github.com/Verified-Intelligence/auto_LiRPA.git\n",
            "  Cloning https://github.com/Verified-Intelligence/auto_LiRPA.git to /tmp/pip-req-build-uis4zjvx\n",
            "  Running command git clone --filter=blob:none --quiet https://github.com/Verified-Intelligence/auto_LiRPA.git /tmp/pip-req-build-uis4zjvx\n",
            "  Resolved https://github.com/Verified-Intelligence/auto_LiRPA.git to commit cf0169ce6bfb4fddd82cfff5c259c162a23ad03c\n",
            "  Preparing metadata (setup.py) ... \u001b[?25l\u001b[?25hdone\n",
            "Requirement already satisfied: torch<2.4.0,>=2.0.0 in /usr/local/lib/python3.12/dist-packages (from auto_LiRPA==0.6.0) (2.3.1)\n",
            "Requirement already satisfied: torchvision<0.19.0,>=0.12.0 in /usr/local/lib/python3.12/dist-packages (from auto_LiRPA==0.6.0) (0.18.1)\n",
            "Requirement already satisfied: numpy<2.0,>=1.20 in /usr/local/lib/python3.12/dist-packages (from auto_LiRPA==0.6.0) (1.26.4)\n",
            "Requirement already satisfied: packaging>=20.0 in /usr/local/lib/python3.12/dist-packages (from auto_LiRPA==0.6.0) (25.0)\n",
            "Requirement already satisfied: pytest==8.1.1 in /usr/local/lib/python3.12/dist-packages (from auto_LiRPA==0.6.0) (8.1.1)\n",
            "Requirement already satisfied: pylint>=2.15 in /usr/local/lib/python3.12/dist-packages (from auto_LiRPA==0.6.0) (3.3.9)\n",
            "Requirement already satisfied: pytest-order>=1.0.0 in /usr/local/lib/python3.12/dist-packages (from auto_LiRPA==0.6.0) (1.3.0)\n",
            "Requirement already satisfied: pytest-mock>=3.14 in /usr/local/lib/python3.12/dist-packages (from auto_LiRPA==0.6.0) (3.15.1)\n",
            "Requirement already satisfied: appdirs>=1.4 in /usr/local/lib/python3.12/dist-packages (from auto_LiRPA==0.6.0) (1.4.4)\n",
            "Requirement already satisfied: pyyaml>=5.0 in /usr/local/lib/python3.12/dist-packages (from auto_LiRPA==0.6.0) (6.0.3)\n",
            "Requirement already satisfied: ninja<1.11.1.2,>=1.10 in /usr/local/lib/python3.12/dist-packages (from auto_LiRPA==0.6.0) (1.11.1.1)\n",
            "Requirement already satisfied: tqdm>=4.64 in /usr/local/lib/python3.12/dist-packages (from auto_LiRPA==0.6.0) (4.67.1)\n",
            "Requirement already satisfied: graphviz>=0.20.3 in /usr/local/lib/python3.12/dist-packages (from auto_LiRPA==0.6.0) (0.21)\n",
            "Requirement already satisfied: iniconfig in /usr/local/lib/python3.12/dist-packages (from pytest==8.1.1->auto_LiRPA==0.6.0) (2.1.0)\n",
            "Requirement already satisfied: pluggy<2.0,>=1.4 in /usr/local/lib/python3.12/dist-packages (from pytest==8.1.1->auto_LiRPA==0.6.0) (1.6.0)\n",
            "Requirement already satisfied: astroid<=3.4.0.dev0,>=3.3.8 in /usr/local/lib/python3.12/dist-packages (from pylint>=2.15->auto_LiRPA==0.6.0) (3.3.11)\n",
            "Requirement already satisfied: dill>=0.3.6 in /usr/local/lib/python3.12/dist-packages (from pylint>=2.15->auto_LiRPA==0.6.0) (0.3.8)\n",
            "Requirement already satisfied: isort!=5.13,<7,>=4.2.5 in /usr/local/lib/python3.12/dist-packages (from pylint>=2.15->auto_LiRPA==0.6.0) (6.1.0)\n",
            "Requirement already satisfied: mccabe<0.8,>=0.6 in /usr/local/lib/python3.12/dist-packages (from pylint>=2.15->auto_LiRPA==0.6.0) (0.7.0)\n",
            "Requirement already satisfied: platformdirs>=2.2 in /usr/local/lib/python3.12/dist-packages (from pylint>=2.15->auto_LiRPA==0.6.0) (4.4.0)\n",
            "Requirement already satisfied: tomlkit>=0.10.1 in /usr/local/lib/python3.12/dist-packages (from pylint>=2.15->auto_LiRPA==0.6.0) (0.13.3)\n",
            "Requirement already satisfied: filelock in /usr/local/lib/python3.12/dist-packages (from torch<2.4.0,>=2.0.0->auto_LiRPA==0.6.0) (3.19.1)\n",
            "Requirement already satisfied: typing-extensions>=4.8.0 in /usr/local/lib/python3.12/dist-packages (from torch<2.4.0,>=2.0.0->auto_LiRPA==0.6.0) (4.15.0)\n",
            "Requirement already satisfied: sympy in /usr/local/lib/python3.12/dist-packages (from torch<2.4.0,>=2.0.0->auto_LiRPA==0.6.0) (1.13.3)\n",
            "Requirement already satisfied: networkx in /usr/local/lib/python3.12/dist-packages (from torch<2.4.0,>=2.0.0->auto_LiRPA==0.6.0) (3.5)\n",
            "Requirement already satisfied: jinja2 in /usr/local/lib/python3.12/dist-packages (from torch<2.4.0,>=2.0.0->auto_LiRPA==0.6.0) (3.1.6)\n",
            "Requirement already satisfied: fsspec in /usr/local/lib/python3.12/dist-packages (from torch<2.4.0,>=2.0.0->auto_LiRPA==0.6.0) (2025.3.0)\n",
            "Requirement already satisfied: nvidia-cuda-nvrtc-cu12==12.1.105 in /usr/local/lib/python3.12/dist-packages (from torch<2.4.0,>=2.0.0->auto_LiRPA==0.6.0) (12.1.105)\n",
            "Requirement already satisfied: nvidia-cuda-runtime-cu12==12.1.105 in /usr/local/lib/python3.12/dist-packages (from torch<2.4.0,>=2.0.0->auto_LiRPA==0.6.0) (12.1.105)\n",
            "Requirement already satisfied: nvidia-cuda-cupti-cu12==12.1.105 in /usr/local/lib/python3.12/dist-packages (from torch<2.4.0,>=2.0.0->auto_LiRPA==0.6.0) (12.1.105)\n",
            "Requirement already satisfied: nvidia-cudnn-cu12==8.9.2.26 in /usr/local/lib/python3.12/dist-packages (from torch<2.4.0,>=2.0.0->auto_LiRPA==0.6.0) (8.9.2.26)\n",
            "Requirement already satisfied: nvidia-cublas-cu12==12.1.3.1 in /usr/local/lib/python3.12/dist-packages (from torch<2.4.0,>=2.0.0->auto_LiRPA==0.6.0) (12.1.3.1)\n",
            "Requirement already satisfied: nvidia-cufft-cu12==11.0.2.54 in /usr/local/lib/python3.12/dist-packages (from torch<2.4.0,>=2.0.0->auto_LiRPA==0.6.0) (11.0.2.54)\n",
            "Requirement already satisfied: nvidia-curand-cu12==10.3.2.106 in /usr/local/lib/python3.12/dist-packages (from torch<2.4.0,>=2.0.0->auto_LiRPA==0.6.0) (10.3.2.106)\n",
            "Requirement already satisfied: nvidia-cusolver-cu12==11.4.5.107 in /usr/local/lib/python3.12/dist-packages (from torch<2.4.0,>=2.0.0->auto_LiRPA==0.6.0) (11.4.5.107)\n",
            "Requirement already satisfied: nvidia-cusparse-cu12==12.1.0.106 in /usr/local/lib/python3.12/dist-packages (from torch<2.4.0,>=2.0.0->auto_LiRPA==0.6.0) (12.1.0.106)\n",
            "Requirement already satisfied: nvidia-nccl-cu12==2.20.5 in /usr/local/lib/python3.12/dist-packages (from torch<2.4.0,>=2.0.0->auto_LiRPA==0.6.0) (2.20.5)\n",
            "Requirement already satisfied: nvidia-nvtx-cu12==12.1.105 in /usr/local/lib/python3.12/dist-packages (from torch<2.4.0,>=2.0.0->auto_LiRPA==0.6.0) (12.1.105)\n",
            "Requirement already satisfied: nvidia-nvjitlink-cu12 in /usr/local/lib/python3.12/dist-packages (from nvidia-cusolver-cu12==11.4.5.107->torch<2.4.0,>=2.0.0->auto_LiRPA==0.6.0) (12.6.85)\n",
            "Requirement already satisfied: pillow!=8.3.*,>=5.3.0 in /usr/local/lib/python3.12/dist-packages (from torchvision<0.19.0,>=0.12.0->auto_LiRPA==0.6.0) (11.3.0)\n",
            "Requirement already satisfied: MarkupSafe>=2.0 in /usr/local/lib/python3.12/dist-packages (from jinja2->torch<2.4.0,>=2.0.0->auto_LiRPA==0.6.0) (3.0.3)\n",
            "Requirement already satisfied: mpmath<1.4,>=1.1.0 in /usr/local/lib/python3.12/dist-packages (from sympy->torch<2.4.0,>=2.0.0->auto_LiRPA==0.6.0) (1.3.0)\n"
          ]
        }
      ]
    },
    {
      "cell_type": "markdown",
      "source": [
        "An example of using jax_verify's implementation of IBP on our cartpole control NN:"
      ],
      "metadata": {
        "id": "G0C_PPb96xiy"
      }
    },
    {
      "cell_type": "code",
      "source": [
        "from auto_LiRPA import BoundedModule, BoundedTensor, PerturbationLpNorm\n",
        "\n",
        "# Wrap the model with auto_LiRPA.\n",
        "model = BoundedModule(model, torch.Tensor(nominal_input))\n",
        "# Define perturbation. Here we add Linf perturbation to input data.\n",
        "ptb = PerturbationLpNorm(norm=np.inf, eps=torch.Tensor([epsilon]))\n",
        "# Make the input a BoundedTensor with the pre-defined perturbation.\n",
        "my_input = BoundedTensor(torch.Tensor(nominal_input), ptb)\n",
        "# Regular forward propagation using BoundedTensor works as usual.\n",
        "prediction = model(my_input)\n",
        "# Compute LiRPA bounds using IBP\n",
        "lb, ub = model.compute_bounds(x=(my_input,), method=\"ibp\")\n",
        "output_range_ibp_autolirpa = np.vstack([lb.detach().numpy(), ub.detach().numpy()]).T\n",
        "print(f\"output bounds via IBP (auto-lirpa): \\n{output_range_ibp_autolirpa}\")"
      ],
      "metadata": {
        "id": "CYx4P1PG0kd5",
        "colab": {
          "base_uri": "https://localhost:8080/"
        },
        "outputId": "e1a210d7-9b23-4dc7-e550-9a3a141b652e"
      },
      "execution_count": 26,
      "outputs": [
        {
          "output_type": "stream",
          "name": "stderr",
          "text": [
            "No CUDA runtime is found, using CUDA_HOME='/usr/local/cuda'\n"
          ]
        },
        {
          "output_type": "stream",
          "name": "stdout",
          "text": [
            "output bounds via IBP (auto-lirpa): \n",
            "[[-25.607302  52.51912 ]\n",
            " [-32.457947  23.750443]]\n"
          ]
        },
        {
          "output_type": "stream",
          "name": "stderr",
          "text": [
            "/usr/local/lib/python3.12/dist-packages/jupyter_client/session.py:203: DeprecationWarning: datetime.datetime.utcnow() is deprecated and scheduled for removal in a future version. Use timezone-aware objects to represent datetimes in UTC: datetime.datetime.now(datetime.UTC).\n",
            "  return datetime.utcnow().replace(tzinfo=utc)\n"
          ]
        }
      ]
    },
    {
      "cell_type": "code",
      "source": [
        "#Comparison for IBP\n",
        "print(f\"output bounds via IBP (auto-lirpa): \\n{output_range_ibp_autolirpa}\")\n",
        "print(f\"output bounds via IBP (jax_verify): \\n{output_range_ibp_jax}\")\n",
        "print(f\"output bounds via IBP (MY CODE): \\n{output_range_ibp}\")"
      ],
      "metadata": {
        "id": "gsGFh2eqglms",
        "outputId": "b35b179a-5f3c-4c1a-c82e-14f058f98326",
        "colab": {
          "base_uri": "https://localhost:8080/"
        }
      },
      "execution_count": 27,
      "outputs": [
        {
          "output_type": "stream",
          "name": "stdout",
          "text": [
            "output bounds via IBP (auto-lirpa): \n",
            "[[-25.607302  52.51912 ]\n",
            " [-32.457947  23.750443]]\n",
            "output bounds via IBP (jax_verify): \n",
            "[[-25.607307  52.51912 ]\n",
            " [-32.457947  23.750446]]\n",
            "output bounds via IBP (MY CODE): \n",
            "[array([-25.6073 ,  52.51912], dtype=float32), array([-32.457947,  23.750446], dtype=float32)]\n"
          ]
        }
      ]
    },
    {
      "cell_type": "code",
      "source": [
        "import matplotlib.pyplot as plt\n",
        "from matplotlib.patches import Rectangle\n",
        "\n",
        "output0_range  = output_range_ibp_autolirpa[0,:]\n",
        "output1_range  = output_range_ibp_autolirpa[1,:]\n",
        "\n",
        "fig, ax = plt.subplots()\n",
        "\n",
        "width  = output0_range[1] - output0_range[0]\n",
        "height = output1_range[1] - output1_range[0]\n",
        "r = Rectangle((output0_range[0], output1_range[0]), width, height, fill=False, edgecolor='green')\n",
        "ax.add_patch(r)\n",
        "ax.scatter(output_samples[:,0], output_samples[:,1])\n",
        "ax.set_title(\"output bounds using IBP auto_lirpa\")\n",
        "ax.set_xlabel(\"Output Dim 0\")\n",
        "ax.set_ylabel(\"Output Dim 1\")"
      ],
      "metadata": {
        "id": "i7VntEDFhbmA",
        "outputId": "a71ef065-db98-4cfa-c36c-5cbce1d1a3a8",
        "colab": {
          "base_uri": "https://localhost:8080/",
          "height": 489
        }
      },
      "execution_count": 28,
      "outputs": [
        {
          "output_type": "execute_result",
          "data": {
            "text/plain": [
              "Text(0, 0.5, 'Output Dim 1')"
            ]
          },
          "metadata": {},
          "execution_count": 28
        },
        {
          "output_type": "display_data",
          "data": {
            "text/plain": [
              "<Figure size 640x480 with 1 Axes>"
            ],
            "image/png": "[encoded data removed]"
          },
          "metadata": {}
        }
      ]
    },
    {
      "cell_type": "markdown",
      "source": [
        "Does that match your implementation of IBP? What about `jax_verify`'s?"
      ],
      "metadata": {
        "id": "K_N0KiGy64dW"
      }
    },
    {
      "cell_type": "markdown",
      "source": [
        "**ANSWER**\n",
        "Yes, all three implementations of IBP produce the same output bounds"
      ],
      "metadata": {
        "id": "AkCEWTfWhp7t"
      }
    },
    {
      "cell_type": "markdown",
      "source": [
        "Now for your job: compute output bounds using `auto-LiRPA`'s implementation of backward CROWN\n",
        "\n",
        "**Deliverables:**\n",
        "\n",
        "- output bounds using backward CROWN, rather than IBP"
      ],
      "metadata": {
        "id": "ZWHwMApQ1_FN"
      }
    },
    {
      "cell_type": "code",
      "source": [
        "#REDFINE INPUT RANGE, GIVEN IN THE BEGINNING\n",
        "epsilon = 0.1\n",
        "\n",
        "# Wrap the model with auto_LiRPA.\n",
        "model = BoundedModule(model, torch.Tensor(nominal_input))\n",
        "ptb = PerturbationLpNorm(norm=np.inf, eps=torch.Tensor([epsilon]))\n",
        "my_input = BoundedTensor(torch.Tensor(nominal_input), ptb)\n",
        "prediction = model(my_input)\n",
        "lb, ub = model.compute_bounds(x=(my_input,), method=\"backward\")\n",
        "output_range_CROWN_autolirpa = np.vstack([lb.detach().numpy(), ub.detach().numpy()]).T\n",
        "\n",
        "print(f\"output bounds via CROWN (jax_verify): \\n{output_range_CROWN_autolirpa}\")"
      ],
      "metadata": {
        "id": "oAosulP31SiA",
        "colab": {
          "base_uri": "https://localhost:8080/"
        },
        "outputId": "14f6c747-db20-4b62-db40-a5df095e30f7"
      },
      "execution_count": 29,
      "outputs": [
        {
          "output_type": "stream",
          "name": "stdout",
          "text": [
            "output bounds via CROWN (jax_verify): \n",
            "[[10.744209   17.722933  ]\n",
            " [-4.7607675  -0.22639656]]\n"
          ]
        }
      ]
    },
    {
      "cell_type": "code",
      "source": [
        "import matplotlib.pyplot as plt\n",
        "from matplotlib.patches import Rectangle\n",
        "\n",
        "output0_range  = output_range_CROWN_autolirpa[0,:]\n",
        "output1_range  = output_range_CROWN_autolirpa[1,:]\n",
        "\n",
        "fig, ax = plt.subplots()\n",
        "\n",
        "width  = output0_range[1] - output0_range[0]\n",
        "height = output1_range[1] - output1_range[0]\n",
        "r = Rectangle((output0_range[0], output1_range[0]), width, height, fill=False, edgecolor='magenta')\n",
        "ax.add_patch(r)\n",
        "ax.scatter(output_samples[:,0], output_samples[:,1])\n",
        "ax.set_title(\"output bounds using backward CROWN auto_lirpa\")\n",
        "ax.set_xlabel(\"Output Dim 0\")\n",
        "ax.set_ylabel(\"Output Dim 1\")"
      ],
      "metadata": {
        "id": "hUqs1zlyi561",
        "outputId": "eddd851b-c410-4cca-a8a4-4a1759520cea",
        "colab": {
          "base_uri": "https://localhost:8080/",
          "height": 489
        }
      },
      "execution_count": 30,
      "outputs": [
        {
          "output_type": "execute_result",
          "data": {
            "text/plain": [
              "Text(0, 0.5, 'Output Dim 1')"
            ]
          },
          "metadata": {},
          "execution_count": 30
        },
        {
          "output_type": "display_data",
          "data": {
            "text/plain": [
              "<Figure size 640x480 with 1 Axes>"
            ],
            "image/png": "[encoded data removed]"
          },
          "metadata": {}
        }
      ]
    },
    {
      "cell_type": "markdown",
      "source": [
        "All done!"
      ],
      "metadata": {
        "id": "nmKg8pm15U-l"
      }
    }
  ]
}